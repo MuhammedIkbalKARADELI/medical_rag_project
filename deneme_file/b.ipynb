{
 "cells": [
  {
   "cell_type": "code",
   "execution_count": 1,
   "id": "1c57cd65",
   "metadata": {},
   "outputs": [
    {
     "name": "stdout",
     "output_type": "stream",
     "text": [
      "✅ JSON dosyaları oluşturuldu:\n",
      "- pubmed_sentences_detailed.json\n",
      "- pubmed_sentences_only.json\n"
     ]
    }
   ],
   "source": [
    "from Bio import Entrez\n",
    "import nltk\n",
    "import json\n",
    "\n",
    "# NLTK tokenizer için indirme (ilk çalıştırmada gerekli)\n",
    "# nltk.download('punkt')\n",
    "# nltk.download(\"punkt_tab\")\n",
    "\n",
    "# PubMed için mail adresin\n",
    "Entrez.email = \"karadeli2001@hotmail.com\"\n",
    "\n",
    "def fetch_pubmed_abstracts(query, max_count=5):\n",
    "    \"\"\"PubMed'den özetleri alır\"\"\"\n",
    "    handle = Entrez.esearch(db=\"pubmed\", term=query, retmax=max_count)\n",
    "    record = Entrez.read(handle)\n",
    "    ids = record[\"IdList\"]\n",
    "    \n",
    "    abstracts = []\n",
    "    for pmid in ids:\n",
    "        handle = Entrez.efetch(db=\"pubmed\", id=pmid, rettype=\"abstract\", retmode=\"text\")\n",
    "        abstract = handle.read().strip()\n",
    "        if abstract:\n",
    "            abstracts.append({\n",
    "                \"pmid\": pmid,\n",
    "                \"abstract\": abstract\n",
    "            })\n",
    "    return abstracts\n",
    "\n",
    "def extract_sentences(abstracts):\n",
    "    \"\"\"Hem detaylı hem sadece cümle listesi oluşturur\"\"\"\n",
    "    detailed = []\n",
    "    only_sentences = []\n",
    "    for entry in abstracts:\n",
    "        sentences = nltk.sent_tokenize(entry[\"abstract\"])\n",
    "        for i, sentence in enumerate(sentences):\n",
    "            detailed.append({\n",
    "                \"pmid\": entry[\"pmid\"],\n",
    "                \"sentence_id\": i,\n",
    "                \"sentence\": sentence\n",
    "            })\n",
    "            only_sentences.append(sentence)\n",
    "    return detailed, only_sentences\n",
    "\n",
    "def save_json(data, filename):\n",
    "    with open(filename, \"w\", encoding=\"utf-8\") as f:\n",
    "        json.dump(data, f, indent=2, ensure_ascii=False)\n",
    "\n",
    "# 🔍 Sorgu gir\n",
    "query = \"covid-19 vaccine immune response\"\n",
    "max_articles = 10\n",
    "\n",
    "# 1. Makaleleri çek\n",
    "abstracts = fetch_pubmed_abstracts(query, max_count=max_articles)\n",
    "\n",
    "# 2. Cümleleri ayır\n",
    "detailed_data, sentence_list = extract_sentences(abstracts)\n",
    "\n",
    "# 3. JSON dosyalarını oluştur\n",
    "save_json(detailed_data, \"pubmed_sentences_detailed.json\")\n",
    "save_json(sentence_list, \"pubmed_sentences_only.json\")\n",
    "\n",
    "print(\"✅ JSON dosyaları oluşturuldu:\")\n",
    "print(\"- pubmed_sentences_detailed.json\")\n",
    "print(\"- pubmed_sentences_only.json\")\n"
   ]
  },
  {
   "cell_type": "code",
   "execution_count": null,
   "id": "86d22c94",
   "metadata": {},
   "outputs": [],
   "source": []
  }
 ],
 "metadata": {
  "kernelspec": {
   "display_name": "Python 3",
   "language": "python",
   "name": "python3"
  },
  "language_info": {
   "codemirror_mode": {
    "name": "ipython",
    "version": 3
   },
   "file_extension": ".py",
   "mimetype": "text/x-python",
   "name": "python",
   "nbconvert_exporter": "python",
   "pygments_lexer": "ipython3",
   "version": "3.13.2"
  }
 },
 "nbformat": 4,
 "nbformat_minor": 5
}
