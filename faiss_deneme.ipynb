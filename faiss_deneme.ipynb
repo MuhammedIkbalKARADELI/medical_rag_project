{
 "cells": [
  {
   "cell_type": "code",
   "execution_count": 1,
   "id": "1e6ed742",
   "metadata": {},
   "outputs": [
    {
     "data": {
      "application/vnd.jupyter.widget-view+json": {
       "model_id": "7668ef32f89744adb4fb793ec401e8e3",
       "version_major": 2,
       "version_minor": 0
      },
      "text/plain": [
       "modules.json:   0%|          | 0.00/349 [00:00<?, ?B/s]"
      ]
     },
     "metadata": {},
     "output_type": "display_data"
    },
    {
     "data": {
      "application/vnd.jupyter.widget-view+json": {
       "model_id": "2bfa68e1f3914290a657d73658581186",
       "version_major": 2,
       "version_minor": 0
      },
      "text/plain": [
       "config_sentence_transformers.json:   0%|          | 0.00/116 [00:00<?, ?B/s]"
      ]
     },
     "metadata": {},
     "output_type": "display_data"
    },
    {
     "data": {
      "application/vnd.jupyter.widget-view+json": {
       "model_id": "d9144c95e75e48a8abea7cfeaf706708",
       "version_major": 2,
       "version_minor": 0
      },
      "text/plain": [
       "README.md: 0.00B [00:00, ?B/s]"
      ]
     },
     "metadata": {},
     "output_type": "display_data"
    },
    {
     "data": {
      "application/vnd.jupyter.widget-view+json": {
       "model_id": "5e9154e6daa04286934d2955d701cdfc",
       "version_major": 2,
       "version_minor": 0
      },
      "text/plain": [
       "sentence_bert_config.json:   0%|          | 0.00/53.0 [00:00<?, ?B/s]"
      ]
     },
     "metadata": {},
     "output_type": "display_data"
    },
    {
     "data": {
      "application/vnd.jupyter.widget-view+json": {
       "model_id": "fd2e53af636a417292aa0df56f96f407",
       "version_major": 2,
       "version_minor": 0
      },
      "text/plain": [
       "config.json:   0%|          | 0.00/612 [00:00<?, ?B/s]"
      ]
     },
     "metadata": {},
     "output_type": "display_data"
    },
    {
     "data": {
      "application/vnd.jupyter.widget-view+json": {
       "model_id": "aec099c50895440f89fbf04c6669905a",
       "version_major": 2,
       "version_minor": 0
      },
      "text/plain": [
       "model.safetensors:   0%|          | 0.00/90.9M [00:00<?, ?B/s]"
      ]
     },
     "metadata": {},
     "output_type": "display_data"
    },
    {
     "data": {
      "application/vnd.jupyter.widget-view+json": {
       "model_id": "b32f4d5d21874094a0f85977f00fd241",
       "version_major": 2,
       "version_minor": 0
      },
      "text/plain": [
       "tokenizer_config.json:   0%|          | 0.00/350 [00:00<?, ?B/s]"
      ]
     },
     "metadata": {},
     "output_type": "display_data"
    },
    {
     "data": {
      "application/vnd.jupyter.widget-view+json": {
       "model_id": "564191026ffb42dca362fcd5413f92da",
       "version_major": 2,
       "version_minor": 0
      },
      "text/plain": [
       "vocab.txt: 0.00B [00:00, ?B/s]"
      ]
     },
     "metadata": {},
     "output_type": "display_data"
    },
    {
     "data": {
      "application/vnd.jupyter.widget-view+json": {
       "model_id": "e630efc1c615484f8d66061ff7901b83",
       "version_major": 2,
       "version_minor": 0
      },
      "text/plain": [
       "tokenizer.json: 0.00B [00:00, ?B/s]"
      ]
     },
     "metadata": {},
     "output_type": "display_data"
    },
    {
     "data": {
      "application/vnd.jupyter.widget-view+json": {
       "model_id": "e7387ddc37cf407792135b956113b471",
       "version_major": 2,
       "version_minor": 0
      },
      "text/plain": [
       "special_tokens_map.json:   0%|          | 0.00/112 [00:00<?, ?B/s]"
      ]
     },
     "metadata": {},
     "output_type": "display_data"
    },
    {
     "data": {
      "application/vnd.jupyter.widget-view+json": {
       "model_id": "f8689015c11c4c68a65c75380fe66174",
       "version_major": 2,
       "version_minor": 0
      },
      "text/plain": [
       "config.json:   0%|          | 0.00/190 [00:00<?, ?B/s]"
      ]
     },
     "metadata": {},
     "output_type": "display_data"
    }
   ],
   "source": [
    "from sentence_transformers import SentenceTransformer\n",
    "import faiss\n",
    "import numpy as np\n",
    "import json\n",
    "\n",
    "# Örnek veri: tıbbi metin parçaları\n",
    "docs = [\n",
    "    \"Tip 2 diyabet, insülin direnci ile karakterizedir.\",\n",
    "    \"Hipertansiyon, kan basıncının kronik olarak yüksek olmasıdır.\",\n",
    "    \"Astım, solunum yollarının inflamasyonudur.\",\n",
    "    \"İnme, beyne giden kan akışının bozulmasıyla oluşur.\",\n",
    "]\n",
    "\n",
    "# Embedding modeli\n",
    "model = SentenceTransformer(\"sentence-transformers/all-MiniLM-L6-v2\")\n",
    "\n",
    "# Vektörleri hesapla\n",
    "embeddings = model.encode(docs, convert_to_numpy=True)\n",
    "\n",
    "# FAISS index oluştur\n",
    "d = embeddings.shape[1]  # vektör boyutu\n",
    "index = faiss.IndexFlatL2(d)\n",
    "index.add(embeddings)\n",
    "\n",
    "# Metadata ile eşleştirmek için ID-to-Doc haritası\n",
    "id2doc = {i: doc for i, doc in enumerate(docs)}\n"
   ]
  },
  {
   "cell_type": "code",
   "execution_count": 5,
   "id": "9cff66d7",
   "metadata": {},
   "outputs": [
    {
     "name": "stdout",
     "output_type": "stream",
     "text": [
      "[\n",
      "  {\n",
      "    \"doc\": \"İnme, beyne giden kan akışının bozulmasıyla oluşur.\",\n",
      "    \"distance\": 0.5047488212585449\n",
      "  },\n",
      "  {\n",
      "    \"doc\": \"Hipertansiyon, kan basıncının kronik olarak yüksek olmasıdır.\",\n",
      "    \"distance\": 0.5383650660514832\n",
      "  },\n",
      "  {\n",
      "    \"doc\": \"Astım, solunum yollarının inflamasyonudur.\",\n",
      "    \"distance\": 0.7167724370956421\n",
      "  }\n",
      "]\n"
     ]
    }
   ],
   "source": [
    "def retrieve(query, top_k=3):\n",
    "    query_vec = model.encode([query], convert_to_numpy=True)\n",
    "    distances, indices = index.search(query_vec, top_k)\n",
    "    \n",
    "    results = []\n",
    "    for i in range(top_k):\n",
    "        doc_id = indices[0][i]\n",
    "        results.append({\n",
    "            \"doc\": id2doc[doc_id],\n",
    "            \"distance\": float(distances[0][i])\n",
    "        })\n",
    "    return results\n",
    "\n",
    "# Örnek sorgu\n",
    "query = \"Akciğer hastalığı nedir?\"\n",
    "results = retrieve(query)\n",
    "print(json.dumps(results, indent=2, ensure_ascii=False))\n"
   ]
  },
  {
   "cell_type": "code",
   "execution_count": null,
   "id": "27435346",
   "metadata": {},
   "outputs": [],
   "source": []
  },
  {
   "cell_type": "code",
   "execution_count": null,
   "id": "88f22737",
   "metadata": {},
   "outputs": [],
   "source": []
  },
  {
   "cell_type": "code",
   "execution_count": null,
   "id": "65143864",
   "metadata": {},
   "outputs": [],
   "source": []
  }
 ],
 "metadata": {
  "kernelspec": {
   "display_name": "Python 3",
   "language": "python",
   "name": "python3"
  },
  "language_info": {
   "codemirror_mode": {
    "name": "ipython",
    "version": 3
   },
   "file_extension": ".py",
   "mimetype": "text/x-python",
   "name": "python",
   "nbconvert_exporter": "python",
   "pygments_lexer": "ipython3",
   "version": "3.10.5"
  }
 },
 "nbformat": 4,
 "nbformat_minor": 5
}
