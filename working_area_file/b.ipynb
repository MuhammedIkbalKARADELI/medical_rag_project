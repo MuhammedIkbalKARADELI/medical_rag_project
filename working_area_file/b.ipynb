{
 "cells": [
  {
   "cell_type": "code",
   "execution_count": 1,
   "id": "1c57cd65",
   "metadata": {},
   "outputs": [
    {
     "name": "stdout",
     "output_type": "stream",
     "text": [
      "✅ JSON dosyaları oluşturuldu:\n",
      "- pubmed_sentences_detailed.json\n",
      "- pubmed_sentences_only.json\n"
     ]
    }
   ],
   "source": [
    "from Bio import Entrez\n",
    "import nltk\n",
    "import json\n",
    "\n",
    "# NLTK tokenizer için indirme (ilk çalıştırmada gerekli)\n",
    "# nltk.download('punkt')\n",
    "# nltk.download(\"punkt_tab\")\n",
    "\n",
    "# PubMed için mail adresin\n",
    "Entrez.email = \"karadeli2001@hotmail.com\"\n",
    "\n",
    "def fetch_pubmed_abstracts(query, max_count=5):\n",
    "    \"\"\"PubMed'den özetleri alır\"\"\"\n",
    "    handle = Entrez.esearch(db=\"pubmed\", term=query, retmax=max_count)\n",
    "    record = Entrez.read(handle)\n",
    "    ids = record[\"IdList\"]\n",
    "    \n",
    "    abstracts = []\n",
    "    for pmid in ids:\n",
    "        handle = Entrez.efetch(db=\"pubmed\", id=pmid, rettype=\"abstract\", retmode=\"text\")\n",
    "        abstract = handle.read().strip()\n",
    "        if abstract:\n",
    "            abstracts.append({\n",
    "                \"pmid\": pmid,\n",
    "                \"abstract\": abstract\n",
    "            })\n",
    "    return abstracts\n",
    "\n",
    "def extract_sentences(abstracts):\n",
    "    \"\"\"Hem detaylı hem sadece cümle listesi oluşturur\"\"\"\n",
    "    detailed = []\n",
    "    only_sentences = []\n",
    "    for entry in abstracts:\n",
    "        sentences = nltk.sent_tokenize(entry[\"abstract\"])\n",
    "        for i, sentence in enumerate(sentences):\n",
    "            detailed.append({\n",
    "                \"pmid\": entry[\"pmid\"],\n",
    "                \"sentence_id\": i,\n",
    "                \"sentence\": sentence\n",
    "            })\n",
    "            only_sentences.append(sentence)\n",
    "    return detailed, only_sentences\n",
    "\n",
    "def save_json(data, filename):\n",
    "    with open(filename, \"w\", encoding=\"utf-8\") as f:\n",
    "        json.dump(data, f, indent=2, ensure_ascii=False)\n",
    "\n",
    "# 🔍 Sorgu gir\n",
    "query = \"covid-19 vaccine immune response\"\n",
    "max_articles = 10\n",
    "\n",
    "# 1. Makaleleri çek\n",
    "abstracts = fetch_pubmed_abstracts(query, max_count=max_articles)\n",
    "\n",
    "# 2. Cümleleri ayır\n",
    "detailed_data, sentence_list = extract_sentences(abstracts)\n",
    "\n",
    "# 3. JSON dosyalarını oluştur\n",
    "save_json(detailed_data, \"pubmed_sentences_detailed.json\")\n",
    "save_json(sentence_list, \"pubmed_sentences_only.json\")\n",
    "\n",
    "print(\"✅ JSON dosyaları oluşturuldu:\")\n",
    "print(\"- pubmed_sentences_detailed.json\")\n",
    "print(\"- pubmed_sentences_only.json\")\n"
   ]
  },
  {
   "cell_type": "code",
   "execution_count": null,
   "id": "86d22c94",
   "metadata": {},
   "outputs": [],
   "source": []
  },
  {
   "cell_type": "code",
   "execution_count": 4,
   "id": "ee4ff41c",
   "metadata": {},
   "outputs": [],
   "source": [
    "from Bio import Entrez\n",
    "import nltk\n",
    "import json\n",
    "\n",
    "# NLTK tokenizer için indirme (ilk çalıştırmada gerekli)\n",
    "# nltk.download('punkt')\n",
    "# nltk.download(\"punkt_tab\")\n",
    "\n",
    "# PubMed için mail adresin\n",
    "Entrez.email = \"karadeli2001@hotmail.com\"\n",
    "\n",
    "def fetch_pubmed_abstracts(query, max_count=50):\n",
    "    \"\"\"PubMed'den özetleri alır\"\"\"\n",
    "    handle = Entrez.esearch(db=\"pubmed\", term=query, retmax=max_count)\n",
    "    record = Entrez.read(handle)\n",
    "    ids = record[\"IdList\"]\n",
    "    \n",
    "    abstracts = []\n",
    "    for pmid in ids:\n",
    "        handle = Entrez.efetch(db=\"pubmed\", id=pmid, rettype=\"abstract\", retmode=\"text\")\n",
    "        abstract = handle.read().strip()\n",
    "        if abstract:\n",
    "            abstracts.append({\n",
    "                \"pmid\": pmid,\n",
    "                \"abstract\": abstract\n",
    "            })\n",
    "    return abstracts"
   ]
  },
  {
   "cell_type": "code",
   "execution_count": 19,
   "id": "be5c38ec",
   "metadata": {},
   "outputs": [],
   "source": [
    "abstracts = fetch_pubmed_abstracts(\"What are the current treatment methods for type 2 diabetes?\", 30)"
   ]
  },
  {
   "cell_type": "code",
   "execution_count": null,
   "id": "983f8f18",
   "metadata": {},
   "outputs": [
    {
     "data": {
      "text/plain": [
       "[{'pmid': '40678477',\n",
       "  'abstract': '1. J Pharm Anal. 2025 Jun;15(6):101305. doi: 10.1016/j.jpha.2025.101305. Epub\\n2025  Apr 10.\\n\\nAdvancement of artificial intelligence based treatment strategy in type 2 \\ndiabetes: A critical update.\\n\\nSen A(1), Mohanraj PS(2), Laxmi V(2), Ashique S(3)(4), Vasudevan R(5), Aldahish \\nA(5), Velu A(6), Das A(7), Ehsan I(8), Islam A(9), Yasmin S(10), Ansari MY(11).\\n\\nAuthor information:\\n(1)Department of Biochemistry, All India Institute of Medical Sciences, \\nGorakhpur, 273008, India.\\n(2)Department of Pharmacology, All India Institute of Medical Sciences, \\nGorakhpur, 273008, India.\\n(3)Department of Pharmaceutical Technology, Bharat Technology, Uluberia, 711316, \\nIndia.\\n(4)School of Pharmaceutical Sciences, Lovely Professional University, Phagwara, \\n144411, India.\\n(5)Department of Pharmacology and Toxicology, College of Pharmacy, King Khalid \\nUniversity, Abha, 62529, Saudi Arabia.\\n(6)Department of Biochemistry, Mahayogi Gorakhnath University, Gorakhpur, \\n273008, India.\\n(7)Department of Physiology, All India Institute of Medical Sciences, Gorakhpur, \\n273008, India.\\n(8)National Institute of Pharmaceutical Education and Research, Kolkata, 700054, \\nIndia.\\n(9)Faculty of Pharmacy, Integral University, Lucknow, 226026, India.\\n(10)Department of Pharmaceutical Chemistry, College of Pharmacy, King Khalid \\nUniversity, Abha, 62529, Saudi Arabia.\\n(11)Ibne Seena College of Pharmacy, Azmi Vidya Nagri Anjhi Shahabad, Hardoi, \\n241124, India.\\n\\nIn the unrelenting race to strive to dominate type 2 diabetes mellitus (T2DM) \\ncare better, this review paper sets out on a significant discovery trip across \\nrecent advancements in treatment and the blooming era of artificial intelligence \\n(AI) utilities. Given the considerable global burden of T2DM, innovative \\ntherapeutic approaches to improve patient outcomes remain a public health \\npriority. This review first provides an in-depth analysis of the current state \\nof therapy, from novel pharmacotherapy to lifestyle interventions and new \\ntreatment methods. At the same time, the rapidly increasing role of AI in \\ndiabetes care is woven into the story, mainly targeting how insulin therapy can \\nbe modified and personalized through algorithms and predictive modelling. It \\nleaves a deep review of their pre-existing synergies, which helps understand how \\ncollaborative opportunities will unlock the future of T2DM care. This critical \\nrole is shown by integrating recent therapeutic advances and AI with overall \\nshowcasing better screening, diagnosis, and therapeutics decision-making to \\noutcome prediction in T2DM. The review emphasizes how AI applications in insulin \\ntherapy have transformative potential in diabetes care. These person-centred \\napproaches to T2DM management, which are more effective and personalized than \\nsome traditional strategies, only work because of the often-hidden synergies \\nbetween AI algorithms in areas such as diagnostic criteria, predictive methods, \\nand familiar classification tools for subgroups with relevant aspects/predictors \\non prognosis or treatment responsiveness.\\n\\n© 2025 The Author(s).\\n\\nDOI: 10.1016/j.jpha.2025.101305\\nPMCID: PMC12268056\\nPMID: 40678477\\n\\nConflict of interest statement: The authors declare that there are no conflicts \\nof interest. All figures are created by using BioRender.com.'},\n",
       " {'pmid': '40678416',\n",
       "  'abstract': '1. Turk J Biol. 2025 Mar 17;49(3):336-346. doi: 10.55730/1300-0152.2749. \\neCollection 2025.\\n\\nThe effects of hsa-mir-26a-5p on cell proliferation, migration, and PI3K \\ninhibitor sensitivity in metformin-resistant triple negative breast cancer \\ncells.\\n\\nCingir Köker Ş(1)(2), Noyan S(1)(2)(3), Yalçin B(2), Doğan Turaçli İ(1)(2).\\n\\nAuthor information:\\n(1)Department of Medical Biology, Faculty of Medicine, Ufuk University, Ankara, \\nTurkiye.\\n(2)Ogretmen Naime Tomek Research Laboratory (ONTAL), Ufuk University, Ankara, \\nTurkiye.\\n(3)Biotechnology Institute, Ankara University, Ankara, Turkiye.\\n\\nBACKGROUND/AIM: Metformin is commonly used to manage type 2 diabetes (T2D) and \\nis being investigated for its potential antiproliferative effects in cancer, \\nparticularly in patients with both T2D and malignancies. Drug resistance can \\ndevelop with any therapeutic agent, and metformin is no exception. As we showed \\nin our previous study, metformin-resistant MDA-MB-468 (MET-R) cells exhibited an \\nEMT-like phenotype. Many transcription factors, as well as miRNAs, can \\ncontribute to this altered phenotype. Our current study identifies the \\ncontribution of hsa-miR-26a-5p expression to the previously observed phenotype.\\nMATERIALS AND METHODS: By utilizing bioinformatic tools, we identified \\nhsa-miR-26a-5p, whose expression was significantly altered with increasing \\nconcentrations of metformin in MET-R cells. We rescued hsa-miR-26a-5p expression \\nand examined the EMT phenotype and apoptotic markers via Western blot analysis.\\nRESULTS: We observed a reduction in hsa-miR-26a-5p expression in response to \\nincreasing concentrations of metformin in MET-R cells. Upon successful \\nrestoration of hsa-miR-26a-5p expression, a subsequent decrease in the \\nproliferation rate was noted. Moreover, when combined with a PI3K inhibitor, we \\nobserved increased sensitivity to the PI3K inhibitor. The EMT and apoptotic \\nmarkers also tended to decrease upon combinatorial treatment.\\nCONCLUSION: In this study, we rescued the diminished expression of \\nhsa-miR-26a-5p in MET-R cells to increase the sensitivity to PI3K inhibitor. The \\ncombination of a PI3K inhibitor and rescued hsa-miR-26-5p expression resulted in \\nthe restoration of the EMT phenotype and proliferation in these cells.\\n\\n© TÜBİTAK.\\n\\nDOI: 10.55730/1300-0152.2749\\nPMCID: PMC12266353\\nPMID: 40678416\\n\\nConflict of interest statement: Conflict of interest: The authors declare no \\nconflict of interest.'},\n",
       " {'pmid': '40676018',\n",
       "  'abstract': \"1. Nat Rev Dis Primers. 2025 Jul 17;11(1):49. doi: 10.1038/s41572-025-00635-0.\\n\\nPrediabetes.\\n\\nUnnikrishnan R(1)(2), Shaw JE(3), Chan JCN(4)(5), Wild SH(6), Peters AL(7), \\nOrrange S(7), Roden M(8)(9)(10), Mohan V(11)(12).\\n\\nAuthor information:\\n(1)Madras Diabetes Research Foundation, ICMR-Collaborating Centre of Excellence, \\nChennai, India.\\n(2)Dr. Mohan's Diabetes Specialities Centre, IDF Centre of Excellence in \\nDiabetes Care, Chennai, India.\\n(3)Baker Heart and Diabetes Institute, Melbourne, Victoria, Australia.\\n(4)Department of Medicine and Therapeutics, Li Ka Shing Institute of Health \\nSciences, Prince of Wales Hospital, Shatin, Hong Kong SAR, China.\\n(5)Hong Kong Institute of Diabetes and Obesity, The Chinese University of Hong \\nKong, Prince of Wales Hospital, Shatin, Hong Kong SAR, China.\\n(6)Usher Institute, University of Edinburgh, Edinburgh, UK.\\n(7)Keck School of Medicine of the University of Southern California, Los \\nAngeles, CA, USA.\\n(8)Department of Endocrinology and Diabetology, Medical Faculty and University \\nHospital Düsseldorf, Heinrich-Heine-University Düsseldorf, Düsseldorf, Germany.\\n(9)Institute for Clinical Diabetology, German Diabetes Center, Leibniz Center \\nfor Diabetes Research at Heinrich-Heine-University, Düsseldorf,, Germany.\\n(10)German Center for Diabetes Research, Partner Düsseldorf, München-Neuherberg, \\nGermany.\\n(11)Madras Diabetes Research Foundation, ICMR-Collaborating Centre of \\nExcellence, Chennai, India. drmohans@diabetes.ind.in.\\n(12)Dr. Mohan's Diabetes Specialities Centre, IDF Centre of Excellence in \\nDiabetes Care, Chennai, India. drmohans@diabetes.ind.in.\\n\\nPrediabetes or intermediate hyperglycaemia represents a preliminary stage in the \\ndevelopment of type 2 diabetes mellitus (T2DM). In addition to an increased \\nlikelihood of developing T2DM, individuals with prediabetes have an elevated \\nrisk of various vascular and non-vascular complications. No consensus has been \\nachieved on the ideal screening strategy for prediabetes, with fasting plasma \\nglucose concentration, glycated haemoglobin (HbA1c) and the oral glucose \\ntolerance test being the most frequently measured parameters. The two major \\nphenotypes of prediabetes, that is, impaired fasting glucose and impaired \\nglucose tolerance, may represent different pathophysiologies with varying \\nnatural history, risk of adverse outcomes and responsiveness to treatment. Most \\nof the evidence for managing prediabetes focuses on lifestyle modification with \\nor without medications in individuals with overweight or obesity and impaired \\nglucose tolerance. Whether these interventions are beneficial in individuals \\nwith impaired fasting glucose and those of normal body weight is unclear, as is \\nthe cost-effectiveness and sustainability of pharmacotherapy for treating \\nprediabetes. Large-scale national T2DM prevention programmes are currently under \\nway to assess whether the benefits of interventions for prediabetes can be \\ntranslated to the community setting.\\n\\n© 2025. Springer Nature Limited.\\n\\nDOI: 10.1038/s41572-025-00635-0\\nPMID: 40676018 [Indexed for MEDLINE]\\n\\nConflict of interest statement: Competing interests: V.M. has acted as \\nconsultant and speaker, and\\xa0received research or educational grants from Abbott, \\nMedtronics, Novo Nordisk, Sanofi, Servier, Boehringer-Ingelheim, Eli Lilly, \\nJohnson & Johnson, Lifescan, Roche, MSD, Novartis, Aventis, Bayer, USV, Dr. \\nReddy’s, Sun Pharma, INTAS, Lupin, Glenmark, Zydus, IPCA, Torrent, Cipla, \\nBiocon, Primus, Franco Indian, Wockhardt, Emcure, Mankind, Fourrts, Apex, GSK \\nand Alembic. M.R. has\\xa0received lecture fees or served on advisory boards for \\nAstraZeneca, Boehringer-Ingelheim, Echosens, Eli Lilly, Madrigal, MSD, Novo \\nNordisk and Target RWE and has performed investigator-initiated research with \\nsupport from Boehringer-Ingelheim and Novo Nordisk to the German Diabetes Center \\n(DDZ). J.E.S. has received lecture fees or served on advisory boards for\\xa0and/or \\nreceived honoraria from Zuellig Pharma, AstraZeneca, Sanofi, Novo Nordisk, Eli \\nLilly, Abbott, Mylan, Boehringer-Ingelheim, Roche, Pfizer and GSK. R.U., S.H.W. \\nand S.O. declare no competing interests.\"},\n",
       " {'pmid': '40675923',\n",
       "  'abstract': '1. Gut Liver. 2025 Jul 18. doi: 10.5009/gnl240616. Online ahead of print.\\n\\nComparison of the Efficacy of Dipeptidyl Peptidase-4 Inhibitors and \\nSodium-Glucose Cotransporter-2 Inhibitors in Diabetic Patients with Steatotic \\nLiver Disease.\\n\\nKo Y(1), Hur MH(1), Park Y(1), Park J(1), Shin H(1), Lee YB(1), Cho EJ(1), Lee \\nJH(1), Yu SJ(1), Yoon JH(1), Kim YJ(1).\\n\\nAuthor information:\\n(1)Department of Internal Medicine and Liver Research Institute, Seoul National \\nUniversity College of Medicine, Seoul, Korea.\\n\\nBACKGROUND/AIMS: There is currently insufficient evidence to recommend one oral \\nhypoglycemic agent over another for diabetic patients to reduce hepatic \\nsteatosis or prevent advanced fibrosis. We aimed to evaluate the efficacy of \\ndipeptidyl peptidase-4 inhibitors (DPP-4i) and sodium-glucose cotransporter-2 \\ninhibitors (SGLT-2i) in patients with type 2 diabetes mellitus (DM) and \\nmetabolic dysfunction-associated steatotic liver disease (MASLD).\\nMETHODS: This study included diabetic patients with steatotic liver disease who \\nnewly received either a DPP-4i or an SGLT-2i as a second-line treatment between \\n2014 and 2021 at a single tertiary hospital. MASLD was categorized as MASLD-H \\n(radiologic steatosis with a hepatic steatosis index [HSI]>36) or MASLD-I \\n(radiologic steatosis only). Changes in the HSI and fibrosis-4 (FIB-4) index \\nwere compared at 1 and 3 years after treatment initiation.\\nRESULTS: A total of 3,493 patients were consecutively enrolled, with 3,001 \\nreceiving DPP-4i treatment and 492 receiving SGLT-2i treatment. After applying \\npropensity score matching, the SGLT-2i group showed a significantly greater \\nreduction in the HSI than the DPP-4i group in the DM-MASLD population at both 1 \\nyear (DM-MASLD-H: DPP-4i vs SGLT-2i, -1.4% vs -3.7%, p<0.001; DM-MASLD-I: -1.3% \\nvs -3.8%, p<0.001) and 3 years (DM-MASLD-H: -2.0% vs -4.0%, p=0.001; DM-MASLD-I: \\n-2.4% vs -4.2, p=0.025). The FIB-4 indices of both groups increased; however, \\nthe increase at year 1 was more significant in the DPP-4i than in the SGLT-2i \\ngroup (DM-MASLD-H: 11.4% vs 5.2%, p<0.001; DM-MASLD-I: 10.7% vs 4.3%, p=0.014).\\nCONCLUSIONS: In patients with DM-MASLD, SGLT-2i treatment was associated with a \\ngreater reduction in hepatic steatosis and delayed fibrotic progression than \\nDPP-4i treatment.\\n\\nDOI: 10.5009/gnl240616\\nPMID: 40675923'},\n",
       " {'pmid': '40674932',\n",
       "  'abstract': \"1. Tissue Cell. 2025 Jul 14;96:103043. doi: 10.1016/j.tice.2025.103043. Online \\nahead of print.\\n\\nMesenchymal stem cell therapy for diabetes: An umbrella review.\\n\\nKoishybayeva D(1), Amirashov A(2), Balmagambetova S(3), Mussin NM(4), Tamadon \\nA(5).\\n\\nAuthor information:\\n(1)Department of Surgical Diseases-2, West Kazakhstan Marat Ospanov Medical \\nUniversity, Aktobe, Kazakhstan. Electronic address: d.koishybayeva@zkmu.kz.\\n(2)Department of Ophthalmology, West Kazakhstan Marat Ospanov Medical \\nUniversity, Aktobe, Kazakhstan. Electronic address: a.amirashov@zkmu.kz.\\n(3)Department of Oncology, West Kazakhstan Marat Ospanov Medical University, \\nAktobe, Kazakhstan. Electronic address: saule.balmagambetova@zkmu.kz.\\n(4)Department of General Surgery, West Kazakhstan Marat Ospanov Medical \\nUniversity, Aktobe, Kazakhstan. Electronic address: nadiar_musin@zkmu.kz.\\n(5)Department of Natural Sciences, West Kazakhstan Marat Ospanov Medical \\nUniversity, Aktobe, Kazakhstan. Electronic address: amintamaddon@yahoo.com.\\n\\nBACKGROUND: Diabetes mellitus (DM) is a chronic metabolic disorder characterized \\nby impaired insulin production or function, leading to significant global health \\nburdens and complications. Conventional treatments, including insulin therapy \\nand oral hypoglycemic agents, often fail to restore normal glucose homeostasis \\nand may cause side effects. Mesenchymal stem cell (MSC) therapy has emerged as a \\npromising alternative, leveraging the regenerative and immunomodulatory \\nproperties of stem cells to address the underlying pathophysiology of diabetes. \\nGiven the increasing prevalence of diabetes and limitations of conventional \\ntherapies, evaluating novel regenerative interventions such as MSC therapy is \\nboth timely and clinically imperative.\\nOBJECTIVE: This umbrella review synthesizes evidence from systematic reviews and \\nmeta-analyses to evaluate the efficacy and safety of MSC therapy for diabetes, \\nfocusing on clinical outcomes, mechanisms of action, and potential to overcome \\nlimitations of current treatments.\\nMETHODS: A comprehensive literature search was conducted across PubMed/MEDLINE, \\nScopus, and Web of Science up to July 30, 2025, following PRISMA guidelines. \\nInclusion criteria encompassed systematic reviews and meta-analyses assessing \\nMSC therapy in type 1 (T1DM) or type 2 diabetes (T2DM) patients, with outcomes \\nsuch as glycemic control, beta-cell function, and safety. Methodological quality \\nwas assessed using the AMSTAR-2 tool. Data were analyzed for study overlap, \\nclinical outcomes, and safety profiles.\\nRESULTS: The review included 17 systematic reviews and meta-analyses \\nrepresenting over 8000 patients. MSC therapy demonstrated significant \\nimprovements in glycemic control, particularly in T2DM, with reductions in HbA1c \\n(up to 1.45\\u202f%) and insulin requirements (up to 2.05 U/kg/day). In T1DM, MSC \\ntherapy improved C-peptide levels and HbA1c but showed variable effects on \\ninsulin dependence. Wharton's jelly-derived MSCs and bone marrow-derived cells \\nexhibited superior efficacy, while umbilical cord blood-derived MSCs were less \\neffective. Adverse events were generally mild (e.g., fever, injection-site \\nreactions), with severe events rare and linked to combination therapies.\\nCONCLUSION: MSC therapy holds significant promise for diabetes management, \\nespecially for T2DM, with favorable safety profiles. However, heterogeneity in \\nstudy designs and limited long-term data highlight the need for standardized \\nprotocols and large-scale randomized trials. Future research should focus on \\noptimizing MSC sources, delivery methods, and long-term outcomes to facilitate \\nclinical translation.\\n\\nCopyright © 2025 Elsevier Ltd. All rights reserved.\\n\\nDOI: 10.1016/j.tice.2025.103043\\nPMID: 40674932\"},\n",
       " {'pmid': '40673521',\n",
       "  'abstract': '1. J Am Heart Assoc. 2025 Jul 17:e038737. doi: 10.1161/JAHA.124.038737. Online \\nahead of print.\\n\\nDigital Therapeutic Based Randomized Investigation to Improve Glycemic Control \\nin Patients With Type 2 Diabetes and Residual Hyperglycemia on Stable Medical \\nTherapy: Rationale, Design, and Baseline Characteristics of the BRIGHT Trial.\\n\\nCanonico ME(1)(2), Hsia J(1)(2), Masoudi FA(3)(4), Bosworth HB(5)(6)(7), Greene \\nS(8), Batch BC(5)(9), Hamilton N(5), de Araujo TB(1), Jackson M(1), Broussard \\nM(8), Gooden Z(8), Guthrie NL(10), Hansell B(10), Matteliano-Madu L(10), Mosesso \\nK(10), Berman MA(10), Bonaca MP(1)(2).\\n\\nAuthor information:\\n(1)CPC Clinical Research Aurora CO USA.\\n(2)Department of Medicine University of Colorado Aurora CO USA.\\n(3)Ascension Health St. Louis MO USA.\\n(4)Department of Medicine University of Texas at Austin Dell Medical School \\nAustin TX USA.\\n(5)Durham Veterans Affairs Health Care System Durham NC USA.\\n(6)Center of Innovation to Accelerate Discovery and Practice Transformation \\n(ADAPT) Durham NC USA.\\n(7)Department of Population Health Sciences Medicine, Psychiatry, and Nursing \\nDuke University Durham NC USA.\\n(8)Ascension DePaul Research Services Center New Orleans LA USA.\\n(9)Division of Endocrinology, Metabolism and Nutrition Duke University Durham NC \\nUSA.\\n(10)Better Therapeutics, Inc. San Francisco CA USA.\\n\\nBACKGROUND: The prevalence of type 2 diabetes continues to rise in the United \\nStates and worldwide. Although novel pharmacotherapies have shown benefits, not \\nall patients have access to these medications and of those who do, some are \\nunable to tolerate treatment. Behavior change is long known to be foundational \\nfor patients with cardiometabolic disease due to its direct positive impact on \\nhealth outcomes. Cognitive behavioral therapy delivered by a digital therapeutic \\nhas the potential to address access to behavioral therapy for patients with type \\n2 diabetes.\\nMETHODS: The BRIGHT (Digital Therapeutic Based Investigation to Improve Glycemic \\nControl in Patients With Type 2 Diabetes and Residual Hyperglycemia on Stable \\nMedical Therapy) Trial (NCT05266625) is a randomized, controlled, multicenter, \\npragmatic, pivotal trial with open-label extension evaluating the hypothesis \\nthat AspyreRx improves glycemic control and cardiometabolic measures in patients \\nwith type 2 diabetes compared with a control application added to usual care \\nacross a broad range of patients in a real-world setting. The current study \\nobjectives are to evaluate the efficacy and safety of AspyreRx at 90 and \\n180\\u2009days compared with a control group and to assess the long-term \\neffectiveness, safety, and impact on health care and medication use over \\nlong-term follow up.\\nCONCLUSIONS: The AspyreRx digital therapeutic is a Food and Drug Administration \\napproved therapy for patients with type 2 diabetes. Although its efficacy for \\nlowering hemoglobin A1C at 90\\u2009days was demonstrated, opportunities remain to \\nbetter understand the long-term effects and the effectiveness and safety in a \\nbroader and more diverse real-world environment. BRIGHT is designed to evaluate \\nthese questions using a virtual, decentralized, model and include a diverse site \\nmix designed to better understand real-world effectiveness and generalizability.\\n\\nDOI: 10.1161/JAHA.124.038737\\nPMID: 40673521'},\n",
       " {'pmid': '40670483',\n",
       "  'abstract': '1. Sci Rep. 2025 Jul 16;15(1):25741. doi: 10.1038/s41598-025-09926-8.\\n\\nInvestigation of multimorbidity patterns and association rules in patients with \\ntype 2 diabetes mellitus using association rules mining algorithm.\\n\\nLiu L(#)(1), Wang X(#)(1), Gui M(#)(1), Ju F(2), Cao L(3), Bi B(4).\\n\\nAuthor information:\\n(1)Department of Biostatistics, School of Public Health, Hainan Medical \\nUniversity, Hainan, China.\\n(2)Department of Endocrinology, Second Affiliated Hospital of Hainan Medical \\nUniversity, Hainan, China.\\n(3)Department of Biostatistics, School of Public Health, Hainan Medical \\nUniversity, Hainan, China. caoli@hainmc.edu.cn.\\n(4)Department of Biostatistics, School of Public Health, Hainan Medical \\nUniversity, Hainan, China. bibo@muhn.edu.cn.\\n(#)Contributed equally\\n\\nThe issue of multimorbidity in patients with type 2 diabetes mellitus (T2DM) is \\nextremely serious. However, the pattern of multimorbidity, including typical \\ncomplications, remains unclear. This study aims to explore the current status \\nand influencing factors of multimorbidity in T2DM, with a focus on mining \\nfrequent disease combination patterns and strong association rules. Data on 26 \\ndiseases were extracted from the electronic medical records of 5,838 \\nhospitalized patients with type 2 diabetes. The chi-square test, \\nCochran-Armitage trend test, and logistic regression were used for the analysis \\nof influential factors. Association rule mining was employed to explore frequent \\ndisease combinations and association rules across the entire population and \\nsubgroups stratified by gender, age, and BMI. Network graphs were used to \\nvisualize binary comorbidity relationships. Gender-specific differences in \\ndisease prevalence were found for 18 of the 26 diseases included in this study. \\nThe prevalence of multimorbidity was 97.8%, and it increased with age, with a \\nhigher prevalence in males (P\\u2009<\\u20090.05). The identified frequent disease \\ncombination patterns mainly centered around typical complications of T2DM. The \\nmost frequent binary comorbidity pattern was diabetic peripheral neuropathy \\n(DPN)\\u2009+\\u2009diabetic peripheral vascular disease (DPVD) (support: 74.1%), which is a \\nnovel finding in the relationship between DPN and DPVD. The primary association \\nrule identified was {DPVD\\u2009+\\u2009diabetic nephropathy (DN)}→{Hypertension}. Disease \\ncombination patterns and association rules varied across gender, age, and BMI. \\nComorbidity relationships became more complex in the middle and older age \\ngroups, as well as in the overweight and obese groups. The findings of this \\nstudy can be used to guide clinicians in the prevention and treatment of \\nmultimorbidity in T2DM and provide possible directions for researchers to \\nfurther investigate the causes and mechanisms.\\n\\n© 2025. The Author(s).\\n\\nDOI: 10.1038/s41598-025-09926-8\\nPMCID: PMC12267454\\nPMID: 40670483 [Indexed for MEDLINE]\\n\\nConflict of interest statement: Declarations. Competing interests: The authors \\ndeclare no competing interests.'},\n",
       " {'pmid': '40669954',\n",
       "  'abstract': \"1. J Am Coll Cardiol. 2025 Jul 22;86(3):165-177. doi: 10.1016/j.jacc.2025.04.061.\\n\\nThe Global Syndemic of Modifiable Cardiovascular Risk Factors Projected From \\n2025 to 2050.\\n\\nChong B(1), Jayabaskaran J(1), Jauhari SM(2), Chia J(3), le Roux CW(4), Mehta \\nA(5), Dimitriadis GK(6), Chen Y(1), Toh SA(7), Manla Y(8), Al Mahmeed W(8), Chan \\nSP(2), Goh R(1), Nagarajan S(1), Li H(9), Kong G(10), Chin YH(10), Wang JW(11), \\nChew HSJ(12), Kontopantelis E(13), Muthiah M(14), Tan JWC(15), Hausenloy D(16), \\nFigtree GA(17), Mamas MA(18), Richards AM(19), Nicholls SJ(20), Chan MY(21), Lip \\nGYH(22), Roth G(23), Mensah GA(24), Sperling LS(25), Chew NWS(26).\\n\\nAuthor information:\\n(1)Yong Loo Lin School of Medicine, National University Singapore, Singapore.\\n(2)Yong Loo Lin School of Medicine, National University Singapore, Singapore; \\nDepartment of Biostatistics, Cardiovascular Research Institute, National \\nUniversity Heart Centre Singapore, National University Health System, Singapore; \\nDepartment of Cardiology, National University Heart Centre Singapore, National \\nUniversity Health System, Singapore.\\n(3)Department of Cardiology, National University Heart Centre Singapore, \\nNational University Health System, Singapore.\\n(4)Diabetes Complications Research Centre, University College Dublin, Dublin, \\nIreland.\\n(5)Division of Cardiology, Virginia Commonwealth University, Richmond, Virginia, \\nUSA.\\n(6)Department of Endocrinology ASO/Easo COM, King's College Hospital NHS \\nFoundation Trust, Denmark Hill, London, United Kingdom; Obesity, Type 2 Diabetes \\nand Immunometabolism Research Group, Department of Diabetes, Faculty of \\nCardiovascular Medicine & Sciences, School of Life Course Sciences, King's \\nCollege London, London, United Kingdom.\\n(7)Yong Loo Lin School of Medicine, National University Singapore, Singapore; \\nDepartment of Medicine, National University Hospital, Singapore; NOVI Health, \\nSingapore; Regional Health System Office, National University Health System, \\nSingapore.\\n(8)Heart, Vascular and Thoracic Institute, Cleveland Clinic Abu Dhabi, Abu \\nDhabi, United Arab Emirates.\\n(9)University of New South Wales, Sydney, New South Wales, Australia.\\n(10)Ministry of Health Holdings, Ministry of Health, Singapore.\\n(11)Department of Surgery, Cardiovascular Research Institute (CVRI), Yong Loo \\nLin School of Medicine, National University of Singapore, Singapore.\\n(12)Alice Lee Centre for Nursing Studies, Yong Loo Lin School of Medicine, \\nNational University of Singapore, Singapore.\\n(13)Division of Informatics, Imaging and Data Science, The University of \\nManchester, Manchester, United Kingdom.\\n(14)Yong Loo Lin School of Medicine, National University Singapore, Singapore; \\nDivision of Gastroenterology and Hepatology, Department of Medicine, National \\nUniversity Hospital, Singapore; National University Centre for Organ \\nTransplantation, National University Health System, Singapore.\\n(15)Department of Cardiovascular Medicine, National Heart Centre Singapore, and \\nDuke-National University of Singapore, Singapore.\\n(16)Yong Loo Lin School of Medicine, National University Singapore, Singapore; \\nDuke-NUS Medical School, Cardiovascular and Metabolic Disorders Programme, \\nSingapore, Singapore; National Heart Centre Singapore, National Heart Research \\nInstitute Singapore, Singapore; University College London, The Hatter \\nCardiovascular Institute, London, United Kingdom.\\n(17)Department of Cardiology, Royal North Shore Hospital, Sydney, New South \\nWales, Australia.\\n(18)Keele Cardiovascular Research Group, School of Medicine, Keele University, \\nKeele, United Kingdom.\\n(19)Department of Cardiology, National University Heart Centre Singapore, \\nNational University Health System, Singapore; Christchurch Heart Institute, \\nUniversity of Otago, Otago, New Zealand.\\n(20)Victorian Heart Institute, Monash University, Melbourne, Victoria, \\nAustralia.\\n(21)Yong Loo Lin School of Medicine, National University Singapore, Singapore; \\nDepartment of Cardiology, National University Heart Centre Singapore, National \\nUniversity Health System, Singapore.\\n(22)Liverpool Centre for Cardiovascular Science at University of Liverpool, \\nLiverpool John Moores University and Liverpool Heart & Chest Hospital, \\nLiverpool, United Kingdom; Danish Center for Health Services Research, \\nDepartment of Clinical Medicine, Aalborg University, Aalborg, Denmark.\\n(23)Department of Health Metrics Sciences, Institute for Health Metrics and \\nEvaluation, School of Medicine, University of Washington, Seattle, Washington, \\nUSA; Division of Cardiology, Department of Medicine, University of Washington, \\nSeattle, Washington, USA.\\n(24)Center for Translation Research and Implementation Science, National Heart, \\nLung, and Blood Institute, National Institutes of Health, Bethesda, Maryland, \\nUSA.\\n(25)Emory University School of Medicine, Atlanta, Georgia, USA. Electronic \\naddress: lsperli@emory.edu.\\n(26)Yong Loo Lin School of Medicine, National University Singapore, Singapore; \\nDepartment of Cardiology, National University Heart Centre Singapore, National \\nUniversity Health System, Singapore. Electronic address: \\nnicholas_ws_chew@nuhs.edu.sg.\\n\\nBACKGROUND: Cardiovascular diseases (CVDs) are the leading cause of global \\nmortality. Understanding epidemiologic trends in the modifiable risk factors \\ndriving CVDs is essential in designing effective countermeasures.\\nOBJECTIVES: The aim of this study was to forecast geospatial trends of \\nmodifiable cardiovascular risk factors, namely high systolic blood pressure \\n(SBP), high fasting plasma glucose, high body mass index (BMI), high low-density \\nlipoprotein cholesterol, and tobacco use from 2025 to 2050.\\nMETHODS: Historical data on disability-adjusted life years (DALYs) and mortality \\nfrom the GBD (Global Burden of Disease) 2021 study were used to forecast the \\nburden associated with modifiable cardiovascular risk factors from 2025 to 2050. \\nTrends across GBD super-regions, sex, sociodemographic index, and age groups \\nwere examined.\\nRESULTS: In 2050, high SBP (1,694.2 [95% uncertainty interval [UI]: \\n1,454.6-1,933.9] per 100,000 population) will contribute to the highest \\nage-standardized DALYs, followed by high low-density lipoprotein cholesterol \\n(657.6 [95% UI: 511.9-803.3] per 100,000 population), high BMI (495.2 [95% UI: \\n330.8-659.6] per 100,000 population), tobacco use (493.7 [95% UI: 378.2-609.1] \\nper 100,000 population), and high fasting plasma glucose (466.7 [95% UI: \\n311.9-621.5] per 100,000 population). Although age-standardized DALY rates will \\nfall across all cardiovascular risk factors from 2025 to 2050, overall crude \\nDALYs associated with cardiovascular risk factors are projected to rise within \\nthe same period. High SBP (rising by 99 million DALYs; 44.1% increase), and high \\nBMI (increasing by 44 million DALYs; 88.0% increase) will have the greatest rise \\nin crude DALYs from 2025 to 2050.\\nCONCLUSIONS: Although the projected decline in age-standardized DALYs of \\nmodifiable cardiovascular risk factors suggest improved management of CVDs, \\ncrude DALYs will continue to rise due to population growth and aging.\\n\\nCopyright © 2025 The Authors. Published by Elsevier Inc. All rights reserved.\\n\\nDOI: 10.1016/j.jacc.2025.04.061\\nPMID: 40669954 [Indexed for MEDLINE]\\n\\nConflict of interest statement: Funding Support and Author Disclosures This \\nresearch was supported by the NUHS Clinician Scientist Program \\n(NCSP2.0/2024/NUHS/NCWS), National Medical Research Council Transition Award \\n(TA24jul-0008), centre grant (CG21APR1008), and the CArdiovascular DiseasE \\nNational Collaborative Enterprise (CADENCE) Singapore National Clinical \\nTranslational Program. The funders had no role in the design and conduct of the \\nstudy; in the collection, analysis, and interpretation of the data; and in the \\npreparation, review, or approval of the manuscript. Dr Mehta has received \\ninstitutional research grants from Novartis and Amgen. Dr Toh has received \\ngrants from the American Heart Association, Institute of Translational Medicine \\nand Therapeutics, University of Pennsylvania, USA, National Medical Research \\nCouncil (Singapore), Merck, and Johnson & Johnson; has served on advisory boards \\nand/or speakers bureau (no fees were received personally) for Eli Lilly, Novo \\nNordisk, Eli Lilly Johnson & Johnson, Boehringer Ingelheim, AstraZeneca, Sanofi, \\nNovartis, Abbott Nutrition, Abbott Diabetes Care, and Dexcom; and is a \\nshareholder, CEO, and Medical Director of NOVI Health. Dr Chan receives speaker \\nfees and research grants from AstraZeneca, Abbott Technologies, and Boston \\nScientific; and receives salary support from a National Medical Research Council \\nClinician Scientist Award-Senior Category (MOH-000280-00). Dr Chew has received \\nresearch grant support from NUHS Seed Fund (NUHSRO/2022/RO5+6/Seed-Mar/03), \\nNational Medical Research Council Research Training Fellowship (MH \\n095:003/008-303), National University of Singapore Yong Loo Lin School of \\nMedicine’s Academic Fellowship Scheme, the NUHS Clinician Scientist Program \\n(NCSP2.0/2024/NUHS/NCWS), and the National Medical Research Council Transition \\nAward (TA24jul-0008). Dr Richards holds the New Zealand Heart Foundation Chair \\nof Cardiovascular Studies; and has received advisory board fees and/or grant \\nsupport from Roche Diagnostics, Novo Nordisk, Abbott Laboratories, Thermo \\nFisher, Medtronic, SphingoTec, Novartis, and AstraZeneca. Dr le Roux receives \\ngrants from the Irish Research Council, Science Foundation Ireland, AnaBio, and \\nthe Health Research Board; serves on advisory boards of Novo Nordisk, Herbalife, \\nGI Dynamics, Eli Lilly, Johnson & Johnson, Glia, and Boehringer Ingelheim; is a \\nmember of the Irish Society for Nutrition and Metabolism outside the area of \\nwork commented on here; andwas the chief medical officer and director of the \\nMedical Device Division of Keyron in 2011; both of these are unremunerated \\npositions. Dr le Roux was a previous investor in Keyron, which develops \\nendoscopically implantable medical devices intended to mimic the surgical \\nprocedures of sleeve gastrectomy and gastric bypass. The product has only been \\ntested in rodents, and none of Keyron’s products are currently licensed. They do \\nnot have any contracts with other companies to put their products into clinical \\npractice. No patients have been included in any of Keyron’s studies, and they \\nare not listed on the stock market. Dr le Roux was gifted stock holdings in \\nSeptember 2021 and divested all stock holdings in Keyron in September, 2021. He \\ncontinues to provide scientific advice to Keyron for no remuneration. Dr \\nDimitriadis has received research grants from Novo Nordisk and DDM; has received \\npayment or honoraria for lectures, presentations, speaker bureaus, manuscript \\nwriting, or educational events from Novo Nordisk, Rhythm Pharmaceuticals, \\nJohnson & Johnson/Ethicon, and Medtronic. Dr Lip has served as a consultant and \\nspeaker for Bristol Myers Squibb/Pfizer, Boehringer Ingelheim, Daiichi-Sankyo, \\nand Anthos (no fees were received personally) outside the submitted work. Dr \\nChong receives research support from the Clinician Scientist Development Unit, \\nYong Loo Lin School of Medicine, National University of Singapore. All other \\nauthors have reported that they have no relationships relevant to the contents \\nof this paper to disclose.\"},\n",
       " {'pmid': '40665260',\n",
       "  'abstract': '1. BMC Endocr Disord. 2025 Jul 16;25(1):179. doi: 10.1186/s12902-025-01985-2.\\n\\nThe effects of non-insulin anti-diabetic medications on the diabetic \\nmicrovascular complications: a systematic review and meta-analysis of randomized \\nclinical trials.\\n\\nWen S(#)(1)(2), Yuan Y(#)(3), Li Y(3), Xu C(3), Chen L(3), Ren Y(3), Wang C(3), \\nHe Y(3), Li X(3), Gong M(3), Yuan X(3), Xu D(3), Wang C(3), Zhou L(4)(5).\\n\\nAuthor information:\\n(1)Department of Endocrinology, Shanghai Pudong Hospital, Fudan University, \\nShanghai, 201399, China. 379295093@qq.com.\\n(2)Fudan Zhangjiang Institute, Shanghai Pudong Hospital, Shanghai, China. \\n379295093@qq.com.\\n(3)Department of Endocrinology, Shanghai Pudong Hospital, Fudan University, \\nShanghai, 201399, China.\\n(4)Department of Endocrinology, Shanghai Pudong Hospital, Fudan University, \\nShanghai, 201399, China. zhouligang1n1@163.com.\\n(5)Shanghai Key Laboratory of Vascular Lesions Regulation and Remodeling, \\nShanghai, 201399, China. zhouligang1n1@163.com.\\n(#)Contributed equally\\n\\nINTRODUCTION: Although the onset and progression of diabetic microvascular \\ncomplications are linked to glycemic control, various antihyperglycemic drugs \\nwith distinct treatment targets may positively impact microvascular lesions \\nbeyond their glucose-lowering effects. Therefore, this systematic review \\nemphasizes the clinical therapeutic implications of non-insulin anti-diabetic \\nmedications for diabetic microvascular complications.\\nMETHODS: We retrieved published literature reporting randomized clinical trials \\n(RCTs) on the effects of microvascular complications, including diabetic \\nnephropathy (DN), diabetic peripheral neuropathy (DPN), and diabetic retinopathy \\n(DR), from authenticated clinical databases: PubMed, Excerpta Medica database \\n(EMBASE), and Web of Science. We synthesized data, including the continuous \\nvariable indices: estimated glomerular filtration rate (eGFR), urinary albumin \\nto creatinine ratio (UACR), and urinary albumin excretion rate (UAE). Indices \\nmeasuring cardiovascular autonomic neuropathy (CAN), vibration detection \\nthreshold (VDT), and retinal nerve fiber thickness (RNFL) were used to calculate \\nmicrovascular effects. We also synthesized dichotomous variable indices, \\nincluding the risks for DR and DPN.\\nRESULTS: According to our analyses, there was sparse evidence strongly \\nsupporting that metformin (MET), Sulfonylurea (SUs), Repaglinide (Repa), or \\nα-Glucosidase inhibitors (α-GIs) could benefit diabetic microvascular \\ncomplications when adopted as monotherapy. Regardless of the no change in eGFR, \\ntwo trials reporting Thiazolidinediones (TZDs) significantly reduced the UACR, \\nwhile other clinical trials reported an increase in VDT and improvement in DR. \\nSodium glucose co-transporter inhibitors (SGLT-2i) and Glucagon-like peptide-1 \\nreceptor agonists (GLP-1RA) both showed protective effects in preventing eGFR \\ndecline, with only SGLT-2i demonstrating a significant reduction in UACR. A \\nrecent trial showed that Dipeptidyl Peptidase IV inhibitors (DPP-IVi) may \\npotentially reduce the risk of DPN, while GLP-1RA did not prove to alter the \\nmeasures of CAN and DPN. However, the SUSTAIN 6 trial revealed that Semaglutide \\nmay increase the risk of DR.\\nCONCLUSION: Besides their anti-hyperglycemic properties, some currently reviewed \\nmedications may exhibit unique anti-microvascular abilities. Due to ambiguous \\nand conflicting available results, more emerging or ongoing trials will address \\nthis issue and could benefit clinical strategies for personalized treatment \\npractices.\\nCLINICAL TRIAL NUMBER: Not applicable.\\n\\n© 2025. The Author(s).\\n\\nDOI: 10.1186/s12902-025-01985-2\\nPMCID: PMC12265122\\nPMID: 40665260 [Indexed for MEDLINE]\\n\\nConflict of interest statement: Declarations. Ethics approval and consent to \\nparticipate: Not applicable. Consent for publication: Not applicable. Competing \\ninterests: The authors declare no competing interests.'},\n",
       " {'pmid': '40662549',\n",
       "  'abstract': \"1. Curr Alzheimer Res. 2025 Jul 14. doi: 10.2174/0115672050393875250626065205. \\nOnline ahead of print.\\n\\nIdentification of MicroRNA Drug Targets for Alzheimer's and Diabetes Mellitus \\nUsing Network Medicine.\\n\\nCastillo-Velázquez R(1), Castañeda-Delgado JE(2)(3), García-Hernández MH(2), \\nRivas-Santiago B(2), Ruiz-Hernández S(1), Ortiz-Pérez EL(4), López-Alvarenga \\nJC(5), Rivera G(4), Lara-Ramírez EE(4).\\n\\nAuthor information:\\n(1)Centro de Investigación en Ciencias de la Salud y Biomedicina, Universidad \\nAutónoma de San Luis Potosí, San Luis Potosí, México.\\n(2)Unidad de Investigación Biomédica de Zacatecas, Instituto Mexicano del Seguro \\nSocial, Zacatecas, Zacatecas, México.\\n(3)Consejo Nacional de humanidades ciencia y tecnología, CONAHCYT. Ciudad de \\nMéxico, México.\\n(4)Laboratorio de Biotecnología Farmacéutica, Centro de Biotecnología Genómica, \\nInstituto Politécnico Nacional, Reynosa, Tamaulipas, México.\\n(5)Division of Population Health & Biostatistics, School of Medicine, The \\nUniversity of Texas Rio Grande Valley, Texas, Edinburg, United States of \\nAmerica.\\n\\nINTRODUCTION: Type 2 diabetes mellitus (T2D) is a known risk factor for \\ndeveloping Alzheimer's disease (AD). Recent research shows that both diseases \\nshare complex and related pathophysiological processes. Network medicine \\napproaches can help to elucidate common dysregulated processes among different \\ndiseases, such as AD and T2D. Thus, the aim of this work was to determine \\ndifferentially expressed genes (DEGs) in AD and T2D and to apply a network \\nmedicine approach to identify the microRNAs (miRNAs) involved in the AD-T2D \\nassociation.\\nMETHODS: Gene expression microarray data sets consisting of 384 control samples \\nand 399 samples belonging to AD and T2D disease were analyzed to obtain DEGs \\nshared by both diseases; the miRNAs associated with these DEGs were predicted \\nusing a network medicine approach. Finally, potential small molecules targeting \\nthese potentially deregulated miRNAs were identified.\\nRESULTS: AD and T2D shared a small subset of 82 downregulated DEGs. These genes \\nwere significantly associated (p < 0.01) with the ontology terms of chemical \\nsynaptic deregulation. DEGs were associated with 12 miRNAs expressed in specific \\ntissues for AD and T2D. Such miRNAs were also primarily associated with the \\nontology terms related to synaptic deregulation and cancer, and AKT signaling \\npathways. Steroid anti-inflammatory drugs, antineoplastics, and glucose \\nmetabolites were predicted to be potential regulators of the 12 shared miRNAs.\\nDISCUSSION: The network medicine approach integrating DEGs and miRNAs enabled \\nthe identification of shared, potentially deregulated biological processes and \\npathways underlying the pathophysiology of AD and T2D. These common molecular \\nmechanisms were also linked to drugs currently used in clinical practice, \\nsuggesting that this strategy may inform future drug repurposing efforts. \\nNonetheless, further in-depth biological validation is required to confirm these \\nfindings.\\nCONCLUSION: Network medicine allowed identifying 12 miRNAs involved in the \\nAD-T2D association, and these could be drug targets for the design of new \\ntreatments; however, the identified miRNAs need further experimental \\nconfirmation.\\n\\nCopyright© Bentham Science Publishers; For any queries, please email at \\nepub@benthamscience.net.\\n\\nDOI: 10.2174/0115672050393875250626065205\\nPMID: 40662549\"}]"
      ]
     },
     "execution_count": 17,
     "metadata": {},
     "output_type": "execute_result"
    }
   ],
   "source": [
    "abstracts"
   ]
  },
  {
   "cell_type": "code",
   "execution_count": 4,
   "id": "38c0944e",
   "metadata": {},
   "outputs": [
    {
     "name": "stdout",
     "output_type": "stream",
     "text": [
      "{'pmid': '40678785', 'abstract': \"1. Arthroplast Today. 2025 Jul 2;34:101745. doi: 10.1016/j.artd.2025.101745. \\neCollection 2025 Aug.\\n\\nIncidentally Diagnosed Asymptomatic COVID-19 Does Not Increase Total \\nComplication Risk in Total Joint Arthroplasty.\\n\\nTadepalli VR(1), Raghuwanshi JS(2), Novicoff W(3)(4), Browne JA(4), Duensing \\nIM(4).\\n\\nAuthor information:\\n(1)Department of Orthopaedic Surgery, University of Virginia Health System, \\nCharlottesville, VA, USA.\\n(2)University of Virginia School of Medicine, Charlottesville, VA, USA.\\n(3)Division of Adult Reconstruction, Department of Orthopaedic Surgery, \\nUniversity of Virginia Health System, Charlottesville, VA, USA.\\n(4)Department of Public Health Sciences, University of Virginia School of \\nMedicine, Charlottesville, VA, USA.\\n\\nBACKGROUND: Impacts of asymptomatic perioperative coronavirus disease 2019 \\n(COVID-19) on total knee (TKA) and hip arthroplasty (THA) outcomes remains \\nunknown.\\nMETHODS: We retrospectively reviewed asymptomatically screened COVID-19 cases \\nundergoing primary TKA or THA between 2020 and 2022. Ninety-day complications, \\ninpatient resources, repeat hospitalizations, and functional outcomes were \\nmeasured for COVID-19 patients and age- and sex-matched controls. The sample \\nsize was determined based on a priori power analysis. Statistics consisted of 2 \\nsample t-tests or Fisher's exact test based on variable type with α = 0.01 to \\ncorrect for multiple comparisons.\\nRESULTS: Of 1914 TKA and 1424 THA patients, 20 and 28 with asymptomatic COVID-19 \\nwere compared to 75 and 105 controls, respectively. While there was no \\nstatistically significant increase in relative risk for major (TKA P = .04|THA P \\n= .12) or thromboembolic (TKA P = .21|THA P = .04) complications, the COVID-19 \\ngroup experienced mortality, ischemic stroke, pulmonary embolism, and deep vein \\nthrombosis. There was no significant difference in admission length (TKA P = \\n.29|THA P = .22), physical therapy (TKA P = .36|THA P = .36), labs (TKA P = \\n.57|THA P = .82), nonhome discharge (TKA P = 1|THA P = 1), or mobility (TKA P = \\n.18|THA P = .21).\\nCONCLUSIONS: The current study suggests that, while perioperative risk of \\nasymptomatic COVID-19 does not meet the threshold for statistical significance, \\narthroplasty surgeons should be aware of potential mortality and morbidity and \\nengage in shared decision-making regarding deferral of surgery, especially for \\npatients with other comorbidities.\\n\\n© 2025 The Authors.\\n\\nDOI: 10.1016/j.artd.2025.101745\\nPMCID: PMC12269793\\nPMID: 40678785\"}\n",
      "{'pmid': '40678761', 'abstract': \"1. Neurohospitalist. 2025 Jul 10:19418744251360300. doi:\\n10.1177/19418744251360300.  Online ahead of print.\\n\\nEye Movement Abnormalities After Thalamo-Mesencephalic Junction Infarction.\\n\\nTaga A(1), Winnick A(1), Green K(1).\\n\\nAuthor information:\\n(1)Department of Neurology, Johns Hopkins University School of Medicine, \\nBaltimore, MD, USA.\\n\\nA 54-year-old man presented with coma and left mydriasis due to bilateral \\nthalamic and left paramedian midbrain infarcts. Workup revealed paradoxical \\nembolism from an intrapulmonary shunt. As the patient's mental status improved, \\ncomplex eye movement abnormalities emerged, including vertical ophthalmoplegia, \\nbilateral ptosis, and right pseudo-abducens palsy. This case highlights the \\ncomplex and often-overlooked ocular motor neural circuitry in the \\nthalamo-mesencephalic junction.\\n\\n© The Author(s) 2025.\\n\\nDOI: 10.1177/19418744251360300\\nPMCID: PMC12265084\\nPMID: 40678761\\n\\nConflict of interest statement: The authors declared no potential conflicts of \\ninterest with respect to the research, authorship, and/or publication of this \\narticle.\"}\n",
      "{'pmid': '40678628', 'abstract': '1. J Am Coll Emerg Physicians Open. 2025 Jun 27;6(4):100216. doi: \\n10.1016/j.acepjo.2025.100216. eCollection 2025 Aug.\\n\\nAn Incidental Embolism.\\n\\nAlley E(1), Melnychuk E(1)(2).\\n\\nAuthor information:\\n(1)Department of Emergency Medicine, Geisinger Medical Center, Danville, \\nPennsylvania, USA.\\n(2)Critical Care Medicine, Geisinger Medical Center, Danville, Pennsylvania, \\nUSA.\\n\\nDOI: 10.1016/j.acepjo.2025.100216\\nPMCID: PMC12268058\\nPMID: 40678628'}\n",
      "{'pmid': '40678390', 'abstract': '1. Open Life Sci. 2025 Jul 15;20(1):20251113. doi: 10.1515/biol-2025-1113. \\neCollection 2025.\\n\\nThe expression of epidermal growth factor receptor 2 and its relationship with \\ntumor-infiltrating lymphocytes and clinical pathological features in breast \\ncancer patients.\\n\\nLi Y(1), Tang H(2), Yang X(1), Men N(1).\\n\\nAuthor information:\\n(1)Department of Pathology, Tangshan Maternal and Child Health Hospital, \\nTangshan, Hebei, 063000, China.\\n(2)Department of Pathology, North China University of Science and Technology \\nAffiliated Hospital, Tangshan, Hebei, 063000, China.\\n\\nBreast cancer (BC) is a common malignant tumor with a frequent occurrence in \\nwomen, and its occurrence and progression are influenced by various factors. \\nThis work aimed to investigate the expression of human epidermal growth factor \\nreceptor-2 (HER-2) in BC and its relationship with tumor-infiltrating \\nlymphocytes (TILs) and the clinical pathological features of BC patients. Data \\nfrom 470 BC patients were collected, and TIL levels were assessed. \\nImmunohistochemistry (IHC) was performed to further analyze the relationship \\nbetween TILs and clinical pathological parameters, as well as the expression of \\nCD8 and HER-2. Immunohistochemical results revealed that the HER-2-positive \\nexpression rate was 28.72% (135/470), and its expression intensity significantly \\nincreased with higher histological grades (low grade: 15.2%, moderate grade: \\n28.5%, high grade: 42.6%, P < 0.05). CD8-positive cells were predominantly \\nlocated in the tumor stroma, with a positive rate of 56.38% (265/470). Moreover, \\nthe positive expression intensity in the high TIL level group was significantly \\nhigher than in the low TIL level group (high TIL group: 78.9%, low TIL group: \\n35.4%, P < 0.05). The statistical results indicated that 37.45% (176/470) of \\ncases exhibited no or low TIL levels, 42.34% (199/470) showed moderate TIL \\nlevels, and 20.21% (95/470) presented high TIL levels. TIL levels were \\nsignificantly associated with histological grade of BC (percentage of high-grade \\ncases in the high TIL group: 65.3%, in the low TIL group: 22.1%, P < 0.05), \\nKi-67 index (high TIL group: 45.2% ± 12.3%, low TIL group: 25.6% ± 10.8%, P < \\n0.05), vascular tumor embolism (VTE) (VTE-positive rate in the high TIL group: \\n38.9%, in the low TIL group: 12.4%, P < 0.05), lymph node metastasis (LNM) \\n(LNM-positive rate in the high TIL group: 52.6%, in the low TIL group: 28.4%, P \\n< 0.05), and estrogen receptor (ER) expression (ER-negative rate in the high TIL \\ngroup: 68.4%, in the low TIL group: 32.1%, P < 0.05). Spearman correlation \\nanalysis revealed a positive correlation between TILs and HER-2 (r = 0.149, P = \\n0.002), as well as CD8 (r = 0.593, P = 0.001). Analysis of the GEPIA database \\nshowed that patients with high HER-2 expression had significantly lower \\ndisease-free survival (DFS) compared to those with low expression (hazard ratio \\n[HR] = 1.45, P = 0.003), while patients with high CD8 expression exhibited \\nsignificantly higher DFS than those with low expression (HR = 0.72, P = 0.001). \\nIn HER-2-positive BC patients, TIL levels were positively correlated with HER-2 \\nand CD8 expression (high HER-2 expression group: TIL high expression rate 48.6%, \\nlow HER-2 expression group: TIL high expression rate 15.2%, P < 0.05). TIL \\nlevels in HER-2-positive BC patients were positively correlated with both HER-2 \\nand CD8 expression. TIL levels were closely related to the prognosis of BC \\npatients, which may provide a theoretical basis for precision treatment in BC.\\n\\n© 2025 the author(s), published by De Gruyter.\\n\\nDOI: 10.1515/biol-2025-1113\\nPMCID: PMC12269946\\nPMID: 40678390\\n\\nConflict of interest statement: Conflict of interest: Authors state no conflict \\nof interest.'}\n",
      "{'pmid': '40678363', 'abstract': \"1. JHLT Open. 2025 Jun 14;9:100314. doi: 10.1016/j.jhlto.2025.100314. eCollection\\n 2025 Aug.\\n\\nImpact of disease location and laterality on hemodynamic response following \\npulmonary thromboendarterectomy for chronic thromboembolic pulmonary \\nhypertension.\\n\\nPérez Martínez BO(1)(2), Rubick GV(1), Toiv A(3), Perkins S(1), Vinales J(4), \\nMoles VM(5), McLaughlin VV(5), Cascino TM(5), Kelly B(6)(7), Grafton G(8), \\nAwdish R(6)(9), Haft JW(10), Aggarwal V(8).\\n\\nAuthor information:\\n(1)Department of Internal Medicine, University of Michigan, Ann Arbor, MI.\\n(2)Division of Cardiology, Department of Internal Medicine, University of \\nConnecticut Health, Farmington, CT.\\n(3)Department of Internal Medicine, Henry Ford Health System, Detroit, MI.\\n(4)University of Michigan Medical School, Ann Arbor, MI.\\n(5)Division of Cardiology (Frankel Cardiovascular Center), Department of \\nInternal Medicine, University of Michigan, Ann Arbor, MI.\\n(6)Division of Pulmonary and Critical Care Medicine, Department of Internal \\nMedicine, Henry Ford Health System, Detroit, MI.\\n(7)Department of Osteopathic Medical Specialties, MIchigan State University \\nCollege of Osteopathic Medicine, East Lansing, MI.\\n(8)Division of Cardiology, Department of Internal Medicine, Henry Ford Health \\nSystem, Detroit, MI.\\n(9)Michigan State College of Human Medicine, Lansing, MI.\\n(10)Department of Cardiac Surgery, University of Michigan, Ann Arbor, MI.\\n\\nBACKGROUND: In patients with chronic thromboembolic pulmonary hypertension \\n(CTEPH) undergoing pulmonary thromboendarterectomy (PTE), obstructive disease \\nburden predicts positive hemodynamic responsiveness. However, the effect of \\ndisease location (upper, middle, or lower lobes) and lung laterality (right or \\nleft) has not been studied.\\nOBJECTIVES: Examine the effect of obstructive disease location and laterality on \\nhemodynamic response following PTE.\\nMETHODS: This analysis is a retrospective cohort study of 56 consecutive \\npatients diagnosed with CTEPH who underwent PTE at the University of Michigan \\nHospital between August 2019 and July 2022. Disease burden, location, and \\nlaterality were assessed on invasive pulmonary angiography (IPA), and lobar \\nsegments were assigned a score based on these features and correlated with an \\nabsolute change in pulmonary vascular resistance (PVR) following PTE. The \\nrelationship between disease burden and hemodynamic responsiveness was modeled \\nusing linear regressions with R 2 reported as a measure of correlation.\\nRESULTS: Most patients were World Health Organization (WHO) class III or IV \\n(n\\xa0=\\xa047; 83.9%) and had a history of acute pulmonary embolism (n\\xa0=\\xa051; 91.1%). A \\nmodest correlation between patients' overall disease burden and absolute change \\nin PVR was noted, with the strongest contributions from the right lower lobe \\n(RLL), right middle lobe (RML), and left lower lobe (LLL) (R 2 =\\xa00.16, 0.10, and \\n0.03, respectively).\\nCONCLUSION: Disease location in the RLL, RML, and LLL may predict hemodynamic \\nimprovement in patients with CTEPH undergoing PTE.\\n\\n© 2025 International Society for Heart and Lung Transplantation.\\n\\nDOI: 10.1016/j.jhlto.2025.100314\\nPMCID: PMC12270046\\nPMID: 40678363\"}\n",
      "{'pmid': '40678356', 'abstract': '1. Res Pract Thromb Haemost. 2025 Jun 9;9(4):102928. doi: \\n10.1016/j.rpth.2025.102928. eCollection 2025 May.\\n\\nEffects on mortality of extended versus short-term anticoagulation in venous \\nthromboembolism: a systematic review and meta-analysis of randomized trials.\\n\\nLefebvre M(1), Cachanado M(2), Chatellier G(2)(3), Emmerich J(1)(3).\\n\\nAuthor information:\\n(1)Department of Vascular Medicine, Groupe Hospitalier Paris Saint-Joseph, \\nParis, France.\\n(2)Clinical Investigation Center Groupe Hospitalier Paris Saint-Joseph, Paris, \\nFrance.\\n(3)University Paris Cité, UMR Inserm 1153-CRESS, F-CRIN INNOVTE, Paris, France.\\n\\nBACKGROUND: Venous thromboembolism (VTE) is a common disease, particularly in \\nolder age. In 30% of cases the VTE is unprovoked, with a risk of recurrence and \\ntherefore of mortality that is higher in these patients. The duration of \\nanticoagulation is still a matter of debate: standard or short-term (3-6 months) \\nversus extended (no end date).\\nOBJECTIVES: To analyze the potential benefit of prolonged anticoagulation on \\noverall mortality, according to type and duration of treatments.\\nMETHODS: PubMed, EMBASE, and Cochrane were searched to identify randomized \\ncontrolled trials. They had to be designed to compare 2 anticoagulation \\nstrategies in patients with unprovoked VTE: short versus extended. No date \\nrestrictions were applied the search was last updated on September 30, 2023.\\nRESULTS: Sixteen articles were included in the meta-analysis. Four studies \\nevaluated full dose of direct oral anticoagulants (DOACs), one of them also \\nconsidered the half dose of DOACs. One study used idraparinux and the others \\nused vitamin K antagonists. The overall risk of bias in individual studies was \\nconsidered low using the Rob 2 tool. Overall deaths occurred in 88 patients \\n(1.51%) in the extended treatment group and 99 patients (1.88%) in the \\nshort-term group. Extended anticoagulation therapy does not significantly reduce \\ntotal mortality (relative risk [RR]: 0.81 [95% CI: 0.61-1.08]). Subgroup \\nanalysis showed a significant reduction of deaths in the extended treatment \\ngroup with DOACs (RR: 0.49 [95% CI: 0.28-0.86]), but the absolute risk of death \\nwas low (<1% in the short-term DOACs subgroup).\\nCONCLUSION: Extended anticoagulation has no benefit on overall mortality \\ncompared with short-term treatment. However, subgroup analysis shows a benefit \\nof DOACs that reduces overall mortality, contrary to vitamin K antagonists..\\n\\n© 2025 The Authors.\\n\\nDOI: 10.1016/j.rpth.2025.102928\\nPMCID: PMC12269505\\nPMID: 40678356'}\n",
      "{'pmid': '40678159', 'abstract': \"1. J Surg Case Rep. 2025 Jul 17;2025(7):rjaf550. doi: 10.1093/jscr/rjaf550. \\neCollection 2025 Jul.\\n\\nRectus sheath hematoma causing cecal perforation: a case report.\\n\\nAwad A(1), Meagher M(1), Theerman I(1), Beckermann J(1).\\n\\nAuthor information:\\n(1)Department of Surgery, Mayo Clinic Health System, 1400 Bellinger St. Eau \\nClaire, WI 54703, United States.\\n\\nRectus sheath hematoma is a rare condition caused by bleeding from the \\nepigastric arteries, with an incidence of 1.2-1.5 cases per year. We present a \\n49-year-old male with a smoking history and recent corona virus disease 2019 \\n(COVID-19) infection who presented with symptoms of an upper respiratory \\ninfection and suspected venous thromboembolism. Imaging revealed bilateral \\npulmonary emboli and a left rectus sheath hematoma, which was initially managed \\nconservatively. However, the patient's condition worsened with a significant \\ndrop in hemoglobin and development of encephalopathy. Imaging showed an \\nenlarging hematoma, leading to transfusion and selective embolization. On day 8, \\nthe patient developed generalized abdominal pain, and imaging confirmed a hollow \\nviscus perforation. An exploratory laparotomy revealed cecal perforation due to \\nmass effect from the hematoma. An ileocecectomy was performed.\\n\\n© The Author(s) 2025. Published by Oxford University Press and JSCR Publishing \\nLtd.\\n\\nDOI: 10.1093/jscr/rjaf550\\nPMCID: PMC12266957\\nPMID: 40678159\\n\\nConflict of interest statement: None declared.\"}\n",
      "{'pmid': '40677873', 'abstract': \"1. Radiol Case Rep. 2025 Jun 26;20(9):4624-4633. doi:\\n10.1016/j.radcr.2025.06.023.  eCollection 2025 Sep.\\n\\nAdrenal hemorrhage and myocarditis in a patient with systemic lupus \\nerythematosus: A case report and literature review.\\n\\nAbdullah SH(1), Hiwa DS(2), Mustafa LJ(2)(3), Ahmed FJ(2), Ahmed SF(2), \\nMohammed-Saeed DH(2)(4), Qadir AN(2), Salih JM(2)(4), Mohammed HS(2)(5), Kakamad \\nFH(2)(4)(6).\\n\\nAuthor information:\\n(1)Department of Medicine, Shar Hospital, Sulaymaniyah, Kurdistan, Iraq.\\n(2)Scientific Affairs Department, Smart Health Tower, Sulaymaniyah, Kurdistan, \\nIraq.\\n(3)Rheumatology Department, Ministry of Health, Sulaymaniyah, Kurdistan, Iraq.\\n(4)College of Medicine, University of Sulaimani, Sulaymaniyah, Kurdistan, Iraq.\\n(5)Scientific Department, Xzmat Polyclinic, Rizgari, Kalar, Sulaymaniyah, \\nKurdistan, Iraq.\\n(6)Kscien Organization for Scientific Research (Middle East Office), \\nSulaymaniyah, Kurdistan, Iraq.\\n\\nBilateral adrenal hemorrhage is a rare and serious complication that might \\naffect patients with concomitant systemic lupus erythematosus (SLE) and \\nantiphospholipid syndrome (APS). However, this study presents a rare case of SLE \\nwithout APS that developed bilateral adrenal hemorrhage, causing adrenal \\ninsufficiency and later complicated by lupus myocarditis, resulting in rapid \\ndeterioration and death. A 35-year-old female complained of generalized body \\naches associated with arthralgia, joint swelling, abdominal pain, and fatigue \\nfor 2 weeks duration. The clinical course was complicated by seizure, bilateral \\nadrenal hemorrhage, and resultant adrenal insufficiency in addition to pulmonary \\nembolism. High troponin titers and echocardiographic findings of global wall \\nhypokinesia suggested lupus myocarditis. Despite treatment with multiple \\nmedications throughout the patient's course of disease, including \\nhydrocortisone, methylprednisolone, and hydroxychloroquine, the patient's \\ncondition deteriorated, and she died. Only a few cases of isolated SLE \\ncomplicated by adrenal hemorrhage were reported during the literature review, \\nwith the majority of other cases associated with APS. Notably, no instances of \\nconcurrent myocarditis were reported in the reviewed studies. Adrenal hemorrhage \\nmay result from heightened arterial or venous pressure, often linked to elevated \\nadrenocorticotropic hormone levels during stress or hypercoagulability. \\nAnticoagulants can increase this risk, while reperfusion injury after \\nhypotensive episodes also contributes. Patients with an SLE flare can develop \\nbilateral adrenal hemorrhage and cause adrenal insufficiency even in the absence \\nof definitive APS. The development of lupus myocarditis in such patients may \\nresult in worsened outcomes and potentially death.\\n\\n© 2025 The Authors.\\n\\nDOI: 10.1016/j.radcr.2025.06.023\\nPMCID: PMC12268007\\nPMID: 40677873\"}\n",
      "{'pmid': '40677569', 'abstract': \"1. World J Gastrointest Endosc. 2025 Jul 16;17(7):105773. doi: \\n10.4253/wjge.v17.i7.105773.\\n\\nFatal air embolism during intestinal endoscopy in Kasai portoenterostomy for \\nbiliary atresia: A case report.\\n\\nShin SY(1), Yeon HJ(2), Lee SO(3), Lee JR(4), Leem G(5), Han SJ(6).\\n\\nAuthor information:\\n(1)Division of Pediatric Surgery, Department of Surgery, Severance Children's \\nHospital, Yonsei University College of Medicine, Seoul 03722, Seodaemun-gu, \\nSouth Korea.\\n(2)Department of Surgery, Konyang University College of Medicine, Daejeon 35365, \\nSeo-Gu, South Korea.\\n(3)Department of Cardiovascular Surgery, Yonsei University College of Medicine, \\nSeoul 03722, Seodaemun-gu, South Korea.\\n(4)Department of Anesthesiology and Pain Medicine, Yonsei University College of \\nMedicine, Seoul 03722, Seodaemun-gu, South Korea.\\n(5)Division of Gastroenterology, Department of Internal Medicine, Yonsei \\nUniversity College of Medicine, Seoul 03722, Seodaemun-gu, South Korea.\\n(6)Division of Pediatric Surgery, Department of Surgery, Severance Children's \\nHospital, Yonsei University College of Medicine, Seoul 03722, Seodaemun-gu, \\nSouth Korea. sjhan@yuhs.ac.\\n\\nBACKGROUND: Air embolism (AE) is a rare but potentially fatal complication of \\nintestinal endoscopy (IE).\\nCASE SUMMARY: Herein, we report the case of an 18-year-old woman who underwent a \\nsuccessful Kasai portoenterostomy (KPE) for biliary atresia but died of AE \\nduring intraoperative IE for stone removal at the portoenterostomy site. Our \\nreview of the English literature identified only four similar cases of fatal AE \\nduring IE in patients undergoing KPE. The common clinical setting in the five \\npatients, including our case, was high-pressure air insufflation into the blind \\nclosed afferent loop of the KPE to secure visibility. We hypothesize that the \\nhighly pressurized air injected into the closed loop entered the bile \\ncanaliculi-previously opened by KPE for bile drainage-passed through the tiny, \\nmicroscopic pores of the fenestrated liver sinusoid endothelial cells, and \\nfinally entered the bloodstream with ease, resulting in fatal AE.\\nCONCLUSION: Meticulous performance of IE, especially on the KPE blind loop, is \\nwarranted owing to the risk of AE.\\n\\n©The Author(s) 2025. Published by Baishideng Publishing Group Inc. All rights \\nreserved.\\n\\nDOI: 10.4253/wjge.v17.i7.105773\\nPMCID: PMC12264834\\nPMID: 40677569\\n\\nConflict of interest statement: Conflict-of-interest statement: The authors \\ndeclare no conflicts of interest related to this case report.\"}\n",
      "{'pmid': '40676853', 'abstract': '1. Tuberc Respir Dis (Seoul). 2025 Jul 18. doi: 10.4046/trd.2025.0052. Online\\nahead  of print.\\n\\nComprehensive Review of Comorbidities in Chronic Obstructive Pulmonary Disease \\nand Preserved Ratio Impaired Spirometry: Insights from 2024.\\n\\nKim SY(1), Kim DK(1), Hong G(1), Woo SD(1), Kang DH(1), Lee SI(1), Chung C(1), \\nPark D(1).\\n\\nAuthor information:\\n(1)Division of Pulmonary and Critical Care Medicine, Department of Internal \\nMedicine, Chungnam National School of Medicine, Chungnam National University \\nHospital, Daejeon, Republic of Korea.\\n\\nChronic obstructive pulmonary disease (COPD) is a progressive lung disease \\ncommonly associated with multiple comorbidities, significantly affecting \\nprognosis and clinical management. Systemic inflammation and shared risk factors \\ncontribute to the development of these comorbidities. Additionally, Preserved \\nRatio Impaired Spirometry (PRISm) has been recognized as a high-risk condition \\nfor COPD progression; however, its comorbid burden remains insufficiently \\nstudied. This review summarizes key findings from clinically relevant studies \\npublished in 2024, focusing on cardiovascular diseases (CVD), pulmonary \\nconditions, frailty, and obstructive sleep apnea (OSA) in both COPD and PRISm. \\nCVD risk in COPD varies according to disease phenotype, with exacerbation \\nseverity and frequency serving as independent risk factors for myocardial \\ninfarction and pulmonary embolism. Bronchiectasis affects up to 69% of COPD \\npatients, leading to higher exacerbation rates and mortality. The recently \\nproposed ROSE criteria (Radiological bronchiectasis, Obstruction, Symptoms, and \\nExposure) provide an objective framework for characterizing patients with both \\nbronchiectasis and COPD. This classification has shown that patients meeting the \\nROSE criteria are at increased risk of COPD exacerbations and hospitalization \\ndue to exacerbation. Furthermore, recent studies demonstrate a strong \\nassociation between severe OSA and PRISm, with a significantly higher prevalence \\nin severe OSA cases (12.9%) compared to mild/moderate OSA (6.2%). PRISm and COPD \\nare also linked to accelerated frailty progression, emphasizing the need for \\nearly identification and management of comorbidities. These findings highlight \\nthe importance of a multidimensional approach to COPD and PRISm, incorporating \\nobjective diagnostic criteria and early interventions. Future research should \\nprioritize longitudinal studies and targeted strategies to improve clinical \\noutcomes in these populations.\\n\\nDOI: 10.4046/trd.2025.0052\\nPMID: 40676853'}\n",
      "{'pmid': '40675810', 'abstract': \"1. AJNR Am J Neuroradiol. 2025 Jul 17. doi: 10.3174/ajnr.A8721. Online ahead of \\nprint.\\n\\nImpact of Previous Glycemic Control on High-Resolution MRI Plaque \\nCharacteristics and Stroke Mechanisms in Patients with Middle Cerebral Artery \\nAtherosclerosis.\\n\\nHuang Q(1), Liu W(2), Liu L(2), Zhang S(1), Yang Y(1), Zhu X(3)(4), Liu Z(5).\\n\\nAuthor information:\\n(1)From the Department of Neurology (Q.H., S.Z., Y.Y., Z.L.), Peking University \\nPeople's Hospital, Beijing, China.\\n(2)Department of Neurology (W.L., L.L.), China-Japan Friendship Hospital, \\nBeijing, China.\\n(3)Department of Neurology (X.Z.), Beijing Friendship Hospital, Capital Medical \\nUniversity, Beijing, China.\\n(4)Department of Radiology (X.Z.), China-Japan Friendship Hospital, Beijing, \\nChina.\\n(5)From the Department of Neurology (Q.H., S.Z., Y.Y., Z.L.), Peking University \\nPeople's Hospital, Beijing, China liuzunjing@bjmu.edu.cn.\\n\\nBACKGROUND AND PURPOSE: Although diabetes mellitus (DM) is a consistently \\ndocumented risk factor for the plaque vulnerability, the effect of diabetes \\nmellitus and glycemic control on the characteristics of intracranial plaques and \\nstroke mechanism has yet to be explored. This study aimed to explore whether \\nprestroke glycemic control is linked to plaque instability and could result in \\nvarying types and mechanisms of stroke.\\nMATERIALS AND METHODS: We retrospectively included 107 patients with infarction \\nattributed to atherosclerotic stenosis of the M1 segment of the MCA within \\n4\\u2009weeks of symptom onset, all of whom underwent high-resolution MR imaging. \\nPatients were categorized into 4 groups based on their history of diabetes \\nmellitus (DM) and their prestroke glycemic control: non-diabetes mellitus, \\nglycosylated hemoglobin (HbA1c) <7.0%, HbA1c 7.0-8.9%, and HbA1c\\u2009≥\\u20099.0%. The \\nmorphology and composition of intracranial atherosclerotic plaques were \\nevaluated by HR-MRI. The degree of plaque enhancement was measured by the \\nplaque-to-pituitary stalk contrast ratio based on signal intensity values on \\npostcontrast T1 images. The infarct pattern and stroke mechanisms were analyzed \\nthrough diffusion-weighted imaging.\\nRESULTS: Among the enrolled 107 patients with stroke, 49 (45.79%) had DM. The \\nremodeling index, wall index, and the degree of stenosis did not differ between \\nthe 4 groups. Poor glycemic control was associated with a higher prevalence of \\nlarge cortical/cortical-deep patterns (25.9% in non-DM, 35.7% in HbA1c <7.0%, \\n39.1% in HbA1c 7.0-8.9%, and 41.7% in HbA1c\\u2009≥\\u20099.0% group). Compared with non-DM \\ngroup, the proportion of artery-to-artery embolism and mixed mechanisms tends to \\nincrease along with increased HbA1c levels. The higher prevalence of intraplaque \\nhemorrhage (40.8% versus 19.0%, P = .01), discontinuity of plaque surface (34.7% \\nversus 12.7%, P = .01), and complicated plaque (defined as plaques with surface \\ndefects or hemorrhage) (55.1% versus 22.4%, P < .001) was significantly observed \\nin diabetic patients more so than non-DM patients. HbA1c\\u2009≥\\u20099.0% was \\nindependently associated with an increased degree of plaque enhancement \\n(coefficient: 0.35, P < .001).\\nCONCLUSIONS: Poor glycemic control is independently linked to heightened plaque \\nenhancement and a higher prevalence of complicated plaque. More large \\ncortical/cortical-deep patterns were found, which may be associated with a small \\nincrease in artery-to-artery embolism and mixed mechanisms in such patients.\\n\\n© 2025 by American Journal of Neuroradiology.\\n\\nDOI: 10.3174/ajnr.A8721\\nPMID: 40675810\"}\n",
      "{'pmid': '40674966', 'abstract': \"1. Int J Surg Case Rep. 2025 Jul 15;133:111685. doi: 10.1016/j.ijscr.2025.111685.\\n Online ahead of print.\\n\\nPulmonary embolism following endovascular aortic repair for a ruptured abdominal \\naortic aneurysm: A case report.\\n\\nTaguchi S(1), Nakaji S(2), Matsumaru I(2), Hisatomi K(2), Teratani H(2), Miura \\nT(2).\\n\\nAuthor information:\\n(1)Department of Cardiovascular Surgery, Nagasaki University Hospital, Japan. \\nElectronic address: shunsuketaguchi@outlook.com.\\n(2)Department of Cardiovascular Surgery, Nagasaki University Hospital, Japan.\\n\\nINTRODUCTION AND IMPORTANCE: The primary complications of ruptured abdominal \\naortic aneurysms (AAAs) include abdominal compartment syndrome, ischemic \\nenteritis, cardiac complications, and lower limb ischemia. Pulmonary embolisms \\n(PEs) resulting from deep venous thrombosis (DVT) are uncommon. Herein, we \\nreport an important case in which a critical PE developed in a patient after \\nemergency endovascular aortic repair (EVAR) for a ruptured AAA. Notably, the \\npatient's life was saved through cardiac surgery without compromising his \\nactivities of daily living.\\nPRESENTATION OF CASE: A 64-year-old man was admitted to our hospital with a \\nruptured AAA and a massive right retroperitoneal hematoma. We performed \\nemergency EVAR, and an open abdomen and temporary abdominal closure technique. \\nOn post-operative day 5, he experienced sudden cardiac arrest due to PE caused \\nby DVT. An emergency pulmonary artery thrombectomy was performed. The abdomen \\nwas opened again and the retroperitoneal hematoma was removed. The postoperative \\ncourse was uneventful and the patient was discharged without sequelae.\\nCLINICAL DISCUSSION: The thrombus formation was considered to have been caused \\nby an aneurysm and a retroperitoneal hematoma that compressed the inferior vena \\ncava.\\nCONCLUSION: If a ruptured AAA protrudes toward the right side and is associated \\nwith a large right-sided hematoma, clinicians might have to consider removing \\nthe hematoma simultaneously via EVAR.\\n\\nCopyright © 2025 The Authors. Published by Elsevier Ltd.. All rights reserved.\\n\\nDOI: 10.1016/j.ijscr.2025.111685\\nPMID: 40674966\\n\\nConflict of interest statement: Conflict of interest statement The authors \\ndeclare that no conflicts of interest exist related to this study or its \\npublication.\"}\n",
      "{'pmid': '40674082', 'abstract': '1. JAMA Oncol. 2025 Jul 17. doi: 10.1001/jamaoncol.2025.2010. Online ahead of \\nprint.\\n\\nRisk Factors for COVID-19-Related Hospitalization and Death in Patients With \\nCancer: The National Cancer Institute COVID-19 in Cancer Patients Study \\n(NCCAPS).\\n\\nRini BI(1), Best AF(2), Bowman MD(3), Mishkin GE(4), Denicoff AM(4), Rubinstein \\nLV(2), Harris L(4), Geiger AM(5), Mark NM(6), Pergam SA(7), Warner JL(8)(9), \\nKhorana AA(10), Gnjatic S(11), Yen TWF(12), Liles DK(13), Bestvina CM(14), Shah \\nNJ(15), Norrell JT(16), Hershman DL(17), Holter-Chakrabarty JL(18), Poklepovic \\nAS(19), Chanock SJ(20), Sankaran H(2), Korde LA(4).\\n\\nAuthor information:\\n(1)Vanderbilt-Ingram Cancer Center, Nashville, Tennessee.\\n(2)Biometric Research Program, Division of Cancer Treatment and Diagnosis, \\nNational Cancer Institute, Bethesda, Maryland.\\n(3)The Emmes Company LLC, Rockville, Maryland.\\n(4)Division of Cancer Treatment and Diagnosis, National Cancer Institute, \\nBethesda, Maryland.\\n(5)National Cancer Institute Center for Strategic Scientific Initiatives, \\nRockville, Maryland.\\n(6)Swedish Medical Center, Seattle, Washington.\\n(7)Fred Hutchinson Cancer Center, Seattle, Washington.\\n(8)Warren Alpert Medical School of Brown University, Providence, Rhode Island.\\n(9)Department of Biostatistics, School of Public Health, Brown University, \\nProvidence, Rhode Island.\\n(10)Cleveland Clinic, Cleveland, Ohio.\\n(11)Icahn School of Medicine at Mount Sinai, New York, New York.\\n(12)Medical College of Wisconsin, Milwaukee.\\n(13)East Carolina University Brody School of Medicine, Greenville, North \\nCarolina.\\n(14)Hematology/Oncology, Department of Medicine, University of Chicago, Chicago, \\nIllinois.\\n(15)Genitourinary Oncology, Memorial Sloan Kettering Cancer Center, New York, \\nNew York.\\n(16)Rutgers Cancer Institute of New Jersey, New Brunswick.\\n(17)Herbert Irving Comprehensive Cancer Center, Columbia University Medical \\nCenter, New York, New York.\\n(18)University of Oklahoma College of Medicine, Oklahoma City.\\n(19)Virginia Commonwealth University Massey Cancer Center, Richmond.\\n(20)Division of Cancer Epidemiology and Genetics, National Cancer Institute, \\nRockville, Maryland.\\n\\nIMPORTANCE: Retrospective case series have identified having cancer and \\nreceiving treatment for cancer as risk factors for inferior COVID-19 outcomes.\\nOBJECTIVE: To determine risk factors for hospitalization and death in patients \\nwith cancer with COVID-19 infection.\\nDESIGN, SETTING, AND PARTICIPANTS: The National Cancer Institute COVID-19 in \\nCancer Patients Study (NCCAPS) is a prospective longitudinal natural history \\ncohort study examining the impact of COVID-19 on patients with cancer. Adults \\nwere eligible within 14 days of an initial positive SARS-CoV-2 test result if \\nthey were receiving active treatment for cancer or had prior stem cell/bone \\nmarrow transplant or CAR T-cell treatment. The statistical analysis took place \\nbetween September 2024 and April 2025.\\nMAIN OUTCOMES AND MEASURES: The primary objective of the study was to determine \\npatient factors, therapy types, and cancer types associated with COVID-19 \\nseverity, defined as hospitalization for or death from COVID-19 within 30 and 90 \\ndays after the first positive SARS-CoV-2 test result. Multivariable regressions \\nwere performed for COVID-19-specific hospitalization and mortality (proportional \\nhazard and cause-specific hazard models).\\nRESULTS: Of 1572 eligible adult patients (median [range] age, 60 [18-93] years; \\n840 female [53.4%]), 1066 (67.8%) had a solid tumor, with 683 (64.0%) having \\nmetastatic disease; breast (252 [23.6%]) and lung cancer (148 [13.9%]) were most \\ncommon. At enrollment, 1013 patients (64.4%) were unvaccinated for SARS-CoV-2. \\nCOVID-19-related mortality at 90 days was 3.0% and did not increase at \\nsubsequent time points. The cumulative incidence of COVID-19-specific death in \\nthe first 90 days was highest in patients with lymphoma, intermediate in \\npatients with acute leukemia and lung cancer, and lowest in patients with other \\nsolid tumors and other hematologic cancers. In multivariable analysis, receipt \\nof chemotherapy (hazard ratio [HR], 1.97; 95% CI, 1.52-2.54) and baseline \\nhistory of stroke, atrial fibrillation, or pulmonary embolism (HR, 1.78; 95% CI, \\n1.33-2.38) were associated with a higher risk of hospitalization. Vaccination \\nprior to SARS-CoV-2 infection was associated with a lower risk of \\nhospitalization (HR, 0.52; 95% CI, 0.38-0.70). Over 2 years of follow-up, there \\nwere 1739 cancer treatment disruptions, of which 881 (50.7%) were attributed to \\nCOVID-19, with most disruptions occurring within the first 30 days.\\nCONCLUSIONS AND RELEVANCE: The results of this prospective cohort study showed \\nthat COVID-19 had a significant impact on patients with cancer, including \\nhospitalization, treatment disruptions, and death.\\n\\nDOI: 10.1001/jamaoncol.2025.2010\\nPMID: 40674082'}\n",
      "{'pmid': '40673411', 'abstract': '1. J Forensic Sci. 2025 Jul 17. doi: 10.1111/1556-4029.70137. Online ahead of \\nprint.\\n\\nMetastatic seminoma: Initial diagnosis at autopsy due to fatal pulmonary \\nthromboembolism.\\n\\nLee N(1), Paul G(1).\\n\\nAuthor information:\\n(1)Forensic Medicine Division, Health Sciences Authority, Singapore, Singapore.\\n\\nTesticular cancer is the most common solid organ malignancy among young males, \\nwith a good survival rate if detected in a timely manner. We describe a case \\nwhere a previously well young adult male died suddenly due to previously \\nundiagnosed metastatic testicular cancer with retroperitoneal lymphadenopathy, \\nresulting in compression and invasion of the inferior vena cava and development \\nof pulmonary thromboembolism. This was attributed to both mechanical compression \\nof the inferior vena cava and the prothrombotic effect of cancer. This is an \\nunusual presentation of seminoma, where diagnosis was only made upon discovery \\nof the pulmonary thromboembolism at autopsy.\\n\\n© 2025 American Academy of Forensic Sciences.\\n\\nDOI: 10.1111/1556-4029.70137\\nPMID: 40673411'}\n",
      "{'pmid': '40673287', 'abstract': '1. Cureus. 2025 Jul 15;17(7):e88032. doi: 10.7759/cureus.88032. eCollection 2025 \\nJul.\\n\\nSplenic Infarction at the Crossroads of Hematologic and Cardioembolic Risk.\\n\\nAnnan GK(1), Enninful E(2), Dwommoh N(3), Egwuonwu C(1), Chapagain S(1).\\n\\nAuthor information:\\n(1)Internal Medicine, Piedmont Athens Regional Medical Center, Athens, USA.\\n(2)Plastic and Reconstructive Surgery, Korle Bu Teaching Hospital, Accra, GHA.\\n(3)Anesthesia and Critical Care, Komfo Anokye Teaching Hospital (KATH), Kumasi, \\nGHA.\\n\\nSplenic infarction is an uncommon but clinically relevant complication of both \\nhematologic malignancies and cardioembolic disorders. Chronic myeloid leukemia \\n(CML), particularly when associated with hyperleukocytosis and thrombocytosis, \\ncontributes to a prothrombotic state. Atrial fibrillation, even in its \\nparoxysmal form, is a well-established risk factor for systemic embolism. When \\nthese conditions coexist, thromboembolic risk is significantly elevated, \\ncreating complex management challenges due to concurrent bleeding risks. We \\npresent a 76-year-old woman with T315I BCR-ABL1 chronic-phase CML, paroxysmal \\natrial fibrillation, and hypertension who presented with acute left upper \\nquadrant abdominal pain. Imaging studies confirmed splenic infarction. \\nLaboratory findings revealed marked leukocytosis and thrombocytosis. She was \\ntreated with intravenous fluids, analgesia, and anticoagulation; initially with \\nheparin infusion, later transitioned to apixaban. Concurrently, disease-directed \\ntherapy with asciminib and hydroxyurea led to a partial hematologic response. At \\nthree-month follow-up, she remained free of recurrent thrombosis, bleeding, or \\nabdominal symptoms. This case highlights the multifactorial etiology of splenic \\ninfarction in patients with overlapping hematologic and cardiovascular risk \\nfactors. It underscores the importance of timely imaging for diagnosis and the \\ndelicate balance of anticoagulation in the setting of malignancy-associated \\nthrombocytosis. Individualized, multidisciplinary management and careful \\nlong-term follow-up are essential to optimize outcomes in this complex patient \\npopulation.\\n\\nCopyright © 2025, Annan et al.\\n\\nDOI: 10.7759/cureus.88032\\nPMCID: PMC12263458\\nPMID: 40673287\\n\\nConflict of interest statement: Human subjects: Informed consent for treatment \\nand open access publication was obtained or waived by all participants in this \\nstudy. Conflicts of interest: In compliance with the ICMJE uniform disclosure \\nform, all authors declare the following: Payment/services info: All authors have \\ndeclared that no financial support was received from any organization for the \\nsubmitted work. Financial relationships: All authors have declared that they \\nhave no financial relationships at present or within the previous three years \\nwith any organizations that might have an interest in the submitted work. Other \\nrelationships: All authors have declared that there are no other relationships \\nor activities that could appear to have influenced the submitted work.'}\n"
     ]
    }
   ],
   "source": [
    "for entry in abstracts:\n",
    "    print(entry)"
   ]
  },
  {
   "cell_type": "code",
   "execution_count": 11,
   "id": "50d867c6",
   "metadata": {},
   "outputs": [
    {
     "data": {
      "text/plain": [
       "{'pmid': '40678785',\n",
       " 'abstract': \"1. Arthroplast Today. 2025 Jul 2;34:101745. doi: 10.1016/j.artd.2025.101745. \\neCollection 2025 Aug.\\n\\nIncidentally Diagnosed Asymptomatic COVID-19 Does Not Increase Total \\nComplication Risk in Total Joint Arthroplasty.\\n\\nTadepalli VR(1), Raghuwanshi JS(2), Novicoff W(3)(4), Browne JA(4), Duensing \\nIM(4).\\n\\nAuthor information:\\n(1)Department of Orthopaedic Surgery, University of Virginia Health System, \\nCharlottesville, VA, USA.\\n(2)University of Virginia School of Medicine, Charlottesville, VA, USA.\\n(3)Division of Adult Reconstruction, Department of Orthopaedic Surgery, \\nUniversity of Virginia Health System, Charlottesville, VA, USA.\\n(4)Department of Public Health Sciences, University of Virginia School of \\nMedicine, Charlottesville, VA, USA.\\n\\nBACKGROUND: Impacts of asymptomatic perioperative coronavirus disease 2019 \\n(COVID-19) on total knee (TKA) and hip arthroplasty (THA) outcomes remains \\nunknown.\\nMETHODS: We retrospectively reviewed asymptomatically screened COVID-19 cases \\nundergoing primary TKA or THA between 2020 and 2022. Ninety-day complications, \\ninpatient resources, repeat hospitalizations, and functional outcomes were \\nmeasured for COVID-19 patients and age- and sex-matched controls. The sample \\nsize was determined based on a priori power analysis. Statistics consisted of 2 \\nsample t-tests or Fisher's exact test based on variable type with α = 0.01 to \\ncorrect for multiple comparisons.\\nRESULTS: Of 1914 TKA and 1424 THA patients, 20 and 28 with asymptomatic COVID-19 \\nwere compared to 75 and 105 controls, respectively. While there was no \\nstatistically significant increase in relative risk for major (TKA P = .04|THA P \\n= .12) or thromboembolic (TKA P = .21|THA P = .04) complications, the COVID-19 \\ngroup experienced mortality, ischemic stroke, pulmonary embolism, and deep vein \\nthrombosis. There was no significant difference in admission length (TKA P = \\n.29|THA P = .22), physical therapy (TKA P = .36|THA P = .36), labs (TKA P = \\n.57|THA P = .82), nonhome discharge (TKA P = 1|THA P = 1), or mobility (TKA P = \\n.18|THA P = .21).\\nCONCLUSIONS: The current study suggests that, while perioperative risk of \\nasymptomatic COVID-19 does not meet the threshold for statistical significance, \\narthroplasty surgeons should be aware of potential mortality and morbidity and \\nengage in shared decision-making regarding deferral of surgery, especially for \\npatients with other comorbidities.\\n\\n© 2025 The Authors.\\n\\nDOI: 10.1016/j.artd.2025.101745\\nPMCID: PMC12269793\\nPMID: 40678785\"}"
      ]
     },
     "execution_count": 11,
     "metadata": {},
     "output_type": "execute_result"
    }
   ],
   "source": [
    "abstracts[0]"
   ]
  },
  {
   "cell_type": "code",
   "execution_count": null,
   "id": "984fe9f1",
   "metadata": {},
   "outputs": [],
   "source": [
    "\n",
    "def extract_sentences(abstracts):\n",
    "    \"\"\"Hem detaylı hem sadece cümle listesi oluşturur\"\"\"\n",
    "    detailed = []\n",
    "    only_sentences = []\n",
    "    for entry in abstracts:\n",
    "        sentences = nltk.sent_tokenize(entry[\"abstract\"])\n",
    "        for i, sentence in enumerate(sentences):\n",
    "            detailed.append({\n",
    "                \"pmid\": entry[\"pmid\"],\n",
    "                \"sentence_id\": i,\n",
    "                \"sentence\": sentence\n",
    "            })\n",
    "            only_sentences.append(sentence)\n",
    "    return detailed, only_sentences"
   ]
  },
  {
   "cell_type": "code",
   "execution_count": null,
   "id": "4d806ebd",
   "metadata": {},
   "outputs": [],
   "source": [
    "def fetch_pubmed_abstracts(query, max_count=50):\n",
    "    \"\"\"PubMed'den özetleri alır\"\"\"\n",
    "    handle = Entrez.esearch(db=\"pubmed\", term=query, retmax=max_count)\n",
    "    record = Entrez.read(handle)\n",
    "    ids = record[\"IdList\"]\n",
    "    \n",
    "    abstracts = []\n",
    "    for pmid in ids:\n",
    "        handle = Entrez.efetch(db=\"pubmed\", id=pmid, rettype=\"abstract\", retmode=\"text\")\n",
    "        abstract = handle.read().strip()\n",
    "        if abstract:\n",
    "            abstracts.append({\n",
    "                \"pmid\": pmid,\n",
    "                \"abstract\": abstract\n",
    "            })\n",
    "    return abstracts"
   ]
  },
  {
   "cell_type": "code",
   "execution_count": 20,
   "id": "212644d1",
   "metadata": {},
   "outputs": [
    {
     "name": "stdout",
     "output_type": "stream",
     "text": [
      "['40311384', '38822689', '38809566', '38018684', '35756305', '35398974', '34115799', '33206454', '33111438', '32677275', '32623134', '32042276', '33912228', '33716583', '31444822', '30688756', '30541453', '30390172', '30122525', '29512135', '29150414', '28793812', '28554086', '28464253', '27988939', '27441911', '27355690', '27299804', '27059812', '26883646', '26528230', '26072992', '25704579', '25232344', '25041105', '24908342', '24409090', '23938274', '23772795', '23730217', '23696214', '23439947', '22088408', '22010892', '21884336', '21762650', '21666883', '21327745', '21297877', '20573101', '20424058', '19951921', '19717144', '19673786', '21585492', '19489896', '19339700', '17444923', '17188676', '17120801', '21702808', '15647061', '33430544', '15495903', '14681164', '12859124', '12760517', '12386323', '11687645', '11458848', '11376640', '11206435', '10980255', '10193055', '8943209', '7671658']\n",
      "1. Front Psychol. 2015 Jun 10;6:788. doi: 10.3389/fpsyg.2015.00788. eCollection \n",
      "2015.\n",
      "\n",
      "Auditory evoked potential: a proposal for further evaluation in children with \n",
      "learning disabilities.\n",
      "\n",
      "Frizzo AC(1).\n",
      "\n",
      "Author information:\n",
      "(1)Department of Speech Pathology, Paulista State University , Marília, Brazil.\n",
      "\n",
      "The information presented in this paper demonstrates the author's experience in \n",
      "previews cross-sectional studies conducted in Brazil, in comparison with the \n",
      "current literature. Over the last 10 years, auditory evoked potential (AEP) has \n",
      "been used in children with learning disabilities. This method is critical to \n",
      "analyze the quality of the processing in time and indicates the specific neural \n",
      "demands and circuits of the sensorial and cognitive process in this clinical \n",
      "population. Some studies with children with dyslexia and learning disabilities \n",
      "were shown here to illustrate the use of AEP in this population.\n",
      "\n",
      "DOI: 10.3389/fpsyg.2015.00788\n",
      "PMCID: PMC4461809\n",
      "PMID: 26113833\n",
      "['8943209', '17444923', '19765698', '19489896', '22010892', '22088408', '32145042', '39960058', '32865487', '36536549', '38853379', '19717144', '38703064', '30681753', '30176405', '31444822', '39230987', '26529900', '28088040', '38528792', '28156032', '33368921', '24118722', '20331982', '25300736', '23275409', '28493810', '21489393', '36787685', '27146310', '26389607', '30681763', '28744914', '33063938', '26707426', '37344237', '31734323', '27146860', '32197131', '12859124', '33863550', '26905502', '24980741', '23300975', '10598463', '12018336', '24041871', '29121588', '27299804', '38917657', '11082857', '21762650', '36217702', '32768730', '26627470', '23562941', '39763096', '33707004', '29871708', '28578869', '26437151', '39116697', '20136930', '30668928', '22694186', '26353859', '33332419', '35217262', '37551932', '29465335', '12760517', '27580733', '11747867', '26708235', '27181298', '19284661', '31599214', '37322859', '22277043', '22213898', '34678682', '32370813', '20573342', '24244536', '17883445', '21499512', '21524739', '18171374', '24908342', '34920298', '15509390', '23177349', '35397136', '20443962', '24973627', '19120421', '30136301', '36286327', '38528789', '38342068']\n"
     ]
    }
   ],
   "source": [
    "from Bio import Entrez\n",
    "\n",
    "Entrez.email = \"mcfrank@stanford.edu\"\n",
    "\n",
    "def get_abstract(pmid):\n",
    "    handle = Entrez.efetch(db='pubmed', id=pmid, retmode='text', rettype='abstract')\n",
    "    return handle.read()\n",
    "\n",
    "def get_links_id(pmid):\n",
    "\tlink_list = []\n",
    "\tlinks = Entrez.elink(dbfrom=\"pubmed\", id=pmid, linkname=\"pubmed_pubmed\")\t\n",
    "\trecord = Entrez.read(links)\n",
    "\t\n",
    "\trecords = record[0][u'LinkSetDb'][0][u'Link']\n",
    "\n",
    "\tfor link in records:\n",
    "\t\tlink_list.append(link[u'Id'])\n",
    "\n",
    "\treturn link_list\n",
    "\n",
    "def get_links_term(term):\n",
    "\tlinks = Entrez.esearch(db=\"pubmed\", retmax = 1000, term=term)\t\n",
    "\trecord = Entrez.read(links)\n",
    "\tlink_list = record[u'IdList']\n",
    "\n",
    "\treturn link_list\n",
    "\n",
    "\n",
    "### MAIN -----------------------\n",
    "\n",
    "print(get_links_term(\"Saffran JR[Author] \"))\n",
    "\n",
    "\n",
    "print(get_abstract(\"26113833\"))\n",
    "\n",
    "\n",
    "\n",
    "print(get_links_id(\"8943209\"))"
   ]
  },
  {
   "cell_type": "code",
   "execution_count": 21,
   "id": "b930ed08",
   "metadata": {},
   "outputs": [],
   "source": [
    "b = get_abstract(\"26113833\")"
   ]
  },
  {
   "cell_type": "code",
   "execution_count": 16,
   "id": "26b07b51",
   "metadata": {},
   "outputs": [],
   "source": [
    "a = get_abstract(\"26113833\")"
   ]
  },
  {
   "cell_type": "code",
   "execution_count": 15,
   "id": "f0beed9d",
   "metadata": {},
   "outputs": [
    {
     "name": "stdout",
     "output_type": "stream",
     "text": [
      "1. Front Psychol. 2015 Jun 10;6:788. doi: 10.3389/fpsyg.2015.00788. eCollection \n",
      "2015.\n",
      "\n",
      "Auditory evoked potential: a proposal for further evaluation in children with \n",
      "learning disabilities.\n",
      "\n",
      "Frizzo AC(1).\n",
      "\n",
      "Author information:\n",
      "(1)Department of Speech Pathology, Paulista State University , Marília, Brazil.\n",
      "\n",
      "The information presented in this paper demonstrates the author's experience in \n",
      "previews cross-sectional studies conducted in Brazil, in comparison with the \n",
      "current literature. Over the last 10 years, auditory evoked potential (AEP) has \n",
      "been used in children with learning disabilities. This method is critical to \n",
      "analyze the quality of the processing in time and indicates the specific neural \n",
      "demands and circuits of the sensorial and cognitive process in this clinical \n",
      "population. Some studies with children with dyslexia and learning disabilities \n",
      "were shown here to illustrate the use of AEP in this population.\n",
      "\n",
      "DOI: 10.3389/fpsyg.2015.00788\n",
      "PMCID: PMC4461809\n",
      "PMID: 26113833\n"
     ]
    }
   ],
   "source": [
    "print(get_abstract(\"26113833\"))"
   ]
  },
  {
   "cell_type": "code",
   "execution_count": 19,
   "id": "01246209",
   "metadata": {},
   "outputs": [
    {
     "data": {
      "text/plain": [
       "\"1. Front Psychol. 2015 Jun 10;6:788. doi: 10.3389/fpsyg.2015.00788. eCollection \\n2015.\\n\\nAuditory evoked potential: a proposal for further evaluation in children with \\nlearning disabilities.\\n\\nFrizzo AC(1).\\n\\nAuthor information:\\n(1)Department of Speech Pathology, Paulista State University , Marília, Brazil.\\n\\nThe information presented in this paper demonstrates the author's experience in \\npreviews cross-sectional studies conducted in Brazil, in comparison with the \\ncurrent literature. Over the last 10 years, auditory evoked potential (AEP) has \\nbeen used in children with learning disabilities. This method is critical to \\nanalyze the quality of the processing in time and indicates the specific neural \\ndemands and circuits of the sensorial and cognitive process in this clinical \\npopulation. Some studies with children with dyslexia and learning disabilities \\nwere shown here to illustrate the use of AEP in this population.\\n\\nDOI: 10.3389/fpsyg.2015.00788\\nPMCID: PMC4461809\\nPMID: 26113833\""
      ]
     },
     "execution_count": 19,
     "metadata": {},
     "output_type": "execute_result"
    }
   ],
   "source": [
    "a"
   ]
  },
  {
   "cell_type": "code",
   "execution_count": 22,
   "id": "f4a26114",
   "metadata": {},
   "outputs": [
    {
     "data": {
      "text/plain": [
       "\"1. Front Psychol. 2015 Jun 10;6:788. doi: 10.3389/fpsyg.2015.00788. eCollection \\n2015.\\n\\nAuditory evoked potential: a proposal for further evaluation in children with \\nlearning disabilities.\\n\\nFrizzo AC(1).\\n\\nAuthor information:\\n(1)Department of Speech Pathology, Paulista State University , Marília, Brazil.\\n\\nThe information presented in this paper demonstrates the author's experience in \\npreviews cross-sectional studies conducted in Brazil, in comparison with the \\ncurrent literature. Over the last 10 years, auditory evoked potential (AEP) has \\nbeen used in children with learning disabilities. This method is critical to \\nanalyze the quality of the processing in time and indicates the specific neural \\ndemands and circuits of the sensorial and cognitive process in this clinical \\npopulation. Some studies with children with dyslexia and learning disabilities \\nwere shown here to illustrate the use of AEP in this population.\\n\\nDOI: 10.3389/fpsyg.2015.00788\\nPMCID: PMC4461809\\nPMID: 26113833\""
      ]
     },
     "execution_count": 22,
     "metadata": {},
     "output_type": "execute_result"
    }
   ],
   "source": [
    "b"
   ]
  },
  {
   "cell_type": "code",
   "execution_count": 23,
   "id": "62a49087",
   "metadata": {},
   "outputs": [
    {
     "name": "stdout",
     "output_type": "stream",
     "text": [
      "1. Front Psychol. 2015 Jun 10;6:788. doi: 10.3389/fpsyg.2015.00788. eCollection \n",
      "2015.\n",
      "\n",
      "Auditory evoked potential: a proposal for further evaluation in children with \n",
      "learning disabilities.\n",
      "\n",
      "Frizzo AC(1).\n",
      "\n",
      "Author information:\n",
      "(1)Department of Speech Pathology, Paulista State University , Marília, Brazil.\n",
      "\n",
      "The information presented in this paper demonstrates the author's experience in \n",
      "previews cross-sectional studies conducted in Brazil, in comparison with the \n",
      "current literature. Over the last 10 years, auditory evoked potential (AEP) has \n",
      "been used in children with learning disabilities. This method is critical to \n",
      "analyze the quality of the processing in time and indicates the specific neural \n",
      "demands and circuits of the sensorial and cognitive process in this clinical \n",
      "population. Some studies with children with dyslexia and learning disabilities \n",
      "were shown here to illustrate the use of AEP in this population.\n",
      "\n",
      "DOI: 10.3389/fpsyg.2015.00788\n",
      "PMCID: PMC4461809\n",
      "PMID: 26113833\n"
     ]
    }
   ],
   "source": [
    "print(b)"
   ]
  },
  {
   "cell_type": "code",
   "execution_count": 30,
   "id": "ee17eceb",
   "metadata": {},
   "outputs": [
    {
     "name": "stdout",
     "output_type": "stream",
     "text": [
      "1. Front Psychol. 2015 Jun 10;6:788. doi: 10.3389/fpsyg.2015.00788. eCollection \n",
      "2015.\n",
      "\n",
      "Auditory evoked potential: a proposal for further evaluation in children with \n",
      "learning disabilities.\n",
      "\n",
      "Frizzo AC(1).\n",
      "\n",
      "Author information:\n",
      "(1)Department of Speech Pathology, Paulista State University , Marília, Brazil.\n"
     ]
    }
   ],
   "source": [
    "print(a.split(\"\\n\")[0])\n",
    "print(a.split(\"\\n\")[1])\n",
    "print(a.split(\"\\n\")[2])\n",
    "print(a.split(\"\\n\")[3])\n",
    "print(a.split(\"\\n\")[4])\n",
    "print(a.split(\"\\n\")[5])\n",
    "print(a.split(\"\\n\")[6])\n",
    "print(a.split(\"\\n\")[7])\n",
    "print(a.split(\"\\n\")[8])\n",
    "print(a.split(\"\\n\")[9])"
   ]
  },
  {
   "cell_type": "code",
   "execution_count": 15,
   "id": "8de1d50a",
   "metadata": {},
   "outputs": [
    {
     "data": {
      "text/plain": [
       "'how can we accurately detect and classify brain tumors using the ViT-PCA-RF model?'"
      ]
     },
     "execution_count": 15,
     "metadata": {},
     "output_type": "execute_result"
    }
   ],
   "source": [
    "tr.split(\"Answer:\")[-1].strip()"
   ]
  },
  {
   "cell_type": "code",
   "execution_count": null,
   "id": "bed73cc9",
   "metadata": {},
   "outputs": [],
   "source": []
  }
 ],
 "metadata": {
  "kernelspec": {
   "display_name": "Python 3",
   "language": "python",
   "name": "python3"
  },
  "language_info": {
   "codemirror_mode": {
    "name": "ipython",
    "version": 3
   },
   "file_extension": ".py",
   "mimetype": "text/x-python",
   "name": "python",
   "nbconvert_exporter": "python",
   "pygments_lexer": "ipython3",
   "version": "3.13.2"
  }
 },
 "nbformat": 4,
 "nbformat_minor": 5
}
