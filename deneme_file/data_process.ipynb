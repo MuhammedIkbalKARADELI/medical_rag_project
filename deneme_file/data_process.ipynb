{
 "cells": [
  {
   "cell_type": "code",
   "execution_count": 3,
   "id": "934b0f01",
   "metadata": {},
   "outputs": [],
   "source": [
    "import pandas as pd\n",
    "\n",
    "df = pd.read_json(\"pubmed_sentences_detailed.json\")"
   ]
  },
  {
   "cell_type": "code",
   "execution_count": 4,
   "id": "a31d5b64",
   "metadata": {},
   "outputs": [
    {
     "data": {
      "text/html": [
       "<div>\n",
       "<style scoped>\n",
       "    .dataframe tbody tr th:only-of-type {\n",
       "        vertical-align: middle;\n",
       "    }\n",
       "\n",
       "    .dataframe tbody tr th {\n",
       "        vertical-align: top;\n",
       "    }\n",
       "\n",
       "    .dataframe thead th {\n",
       "        text-align: right;\n",
       "    }\n",
       "</style>\n",
       "<table border=\"1\" class=\"dataframe\">\n",
       "  <thead>\n",
       "    <tr style=\"text-align: right;\">\n",
       "      <th></th>\n",
       "      <th>pmid</th>\n",
       "      <th>sentence_id</th>\n",
       "      <th>sentence</th>\n",
       "    </tr>\n",
       "  </thead>\n",
       "  <tbody>\n",
       "    <tr>\n",
       "      <th>0</th>\n",
       "      <td>40674605</td>\n",
       "      <td>0</td>\n",
       "      <td>1.</td>\n",
       "    </tr>\n",
       "    <tr>\n",
       "      <th>1</th>\n",
       "      <td>40674605</td>\n",
       "      <td>1</td>\n",
       "      <td>Lupus.</td>\n",
       "    </tr>\n",
       "    <tr>\n",
       "      <th>2</th>\n",
       "      <td>40674605</td>\n",
       "      <td>2</td>\n",
       "      <td>2025 Jul 17:9612033251357627. doi: 10.1177/096...</td>\n",
       "    </tr>\n",
       "    <tr>\n",
       "      <th>3</th>\n",
       "      <td>40674605</td>\n",
       "      <td>3</td>\n",
       "      <td>Online \\nahead of print.</td>\n",
       "    </tr>\n",
       "    <tr>\n",
       "      <th>4</th>\n",
       "      <td>40674605</td>\n",
       "      <td>4</td>\n",
       "      <td>COVID-19 vaccine-induced systemic lupus erythe...</td>\n",
       "    </tr>\n",
       "    <tr>\n",
       "      <th>...</th>\n",
       "      <td>...</td>\n",
       "      <td>...</td>\n",
       "      <td>...</td>\n",
       "    </tr>\n",
       "    <tr>\n",
       "      <th>276</th>\n",
       "      <td>40663029</td>\n",
       "      <td>33</td>\n",
       "      <td>Ultimately, monitoring antibody \\nlevels after...</td>\n",
       "    </tr>\n",
       "    <tr>\n",
       "      <th>277</th>\n",
       "      <td>40663029</td>\n",
       "      <td>34</td>\n",
       "      <td>CLINICALTRIALS: gov NCT05220397.</td>\n",
       "    </tr>\n",
       "    <tr>\n",
       "      <th>278</th>\n",
       "      <td>40663029</td>\n",
       "      <td>35</td>\n",
       "      <td>Copyright © 2025 Mayo Foundation for Medical E...</td>\n",
       "    </tr>\n",
       "    <tr>\n",
       "      <th>279</th>\n",
       "      <td>40663029</td>\n",
       "      <td>36</td>\n",
       "      <td>Published \\nby Elsevier Inc. All rights reserved.</td>\n",
       "    </tr>\n",
       "    <tr>\n",
       "      <th>280</th>\n",
       "      <td>40663029</td>\n",
       "      <td>37</td>\n",
       "      <td>DOI: 10.1016/j.mayocp.2025.03.017\\nPMID: 40663029</td>\n",
       "    </tr>\n",
       "  </tbody>\n",
       "</table>\n",
       "<p>281 rows × 3 columns</p>\n",
       "</div>"
      ],
      "text/plain": [
       "         pmid  sentence_id                                           sentence\n",
       "0    40674605            0                                                 1.\n",
       "1    40674605            1                                             Lupus.\n",
       "2    40674605            2  2025 Jul 17:9612033251357627. doi: 10.1177/096...\n",
       "3    40674605            3                           Online \\nahead of print.\n",
       "4    40674605            4  COVID-19 vaccine-induced systemic lupus erythe...\n",
       "..        ...          ...                                                ...\n",
       "276  40663029           33  Ultimately, monitoring antibody \\nlevels after...\n",
       "277  40663029           34                   CLINICALTRIALS: gov NCT05220397.\n",
       "278  40663029           35  Copyright © 2025 Mayo Foundation for Medical E...\n",
       "279  40663029           36  Published \\nby Elsevier Inc. All rights reserved.\n",
       "280  40663029           37  DOI: 10.1016/j.mayocp.2025.03.017\\nPMID: 40663029\n",
       "\n",
       "[281 rows x 3 columns]"
      ]
     },
     "execution_count": 4,
     "metadata": {},
     "output_type": "execute_result"
    }
   ],
   "source": [
    "df"
   ]
  },
  {
   "cell_type": "code",
   "execution_count": 1,
   "id": "b4e4c855",
   "metadata": {},
   "outputs": [
    {
     "data": {
      "text/plain": [
       "'/Users/ikbalkrdl/Desktop/Baykar Sağlıkta Yapay Zeka/medical_rag_project/deneme_file'"
      ]
     },
     "execution_count": 1,
     "metadata": {},
     "output_type": "execute_result"
    }
   ],
   "source": [
    "import os \n",
    "os.getcwd()"
   ]
  },
  {
   "cell_type": "code",
   "execution_count": null,
   "id": "9b5731b8",
   "metadata": {},
   "outputs": [],
   "source": []
  }
 ],
 "metadata": {
  "kernelspec": {
   "display_name": "Python 3",
   "language": "python",
   "name": "python3"
  },
  "language_info": {
   "codemirror_mode": {
    "name": "ipython",
    "version": 3
   },
   "file_extension": ".py",
   "mimetype": "text/x-python",
   "name": "python",
   "nbconvert_exporter": "python",
   "pygments_lexer": "ipython3",
   "version": "3.13.2"
  }
 },
 "nbformat": 4,
 "nbformat_minor": 5
}
